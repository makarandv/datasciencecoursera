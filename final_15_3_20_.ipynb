{
  "nbformat": 4,
  "nbformat_minor": 0,
  "metadata": {
    "colab": {
      "name": "final 15-3-20 .ipynb",
      "provenance": [],
      "collapsed_sections": [],
      "toc_visible": true,
      "include_colab_link": true
    },
    "kernelspec": {
      "name": "python3",
      "display_name": "Python 3"
    }
  },
  "cells": [
    {
      "cell_type": "markdown",
      "metadata": {
        "id": "view-in-github",
        "colab_type": "text"
      },
      "source": [
        "<a href=\"https://colab.research.google.com/github/makarandv/datasciencecoursera/blob/master/final_15_3_20_.ipynb\" target=\"_parent\"><img src=\"https://colab.research.google.com/assets/colab-badge.svg\" alt=\"Open In Colab\"/></a>"
      ]
    },
    {
      "cell_type": "code",
      "metadata": {
        "id": "scaVUUBnvIsj",
        "colab_type": "code",
        "colab": {}
      },
      "source": [
        "import os\n",
        "import numpy as np\n",
        "import librosa\n",
        "import librosa.display\n",
        "import pandas as pd\n",
        "import pdb\n",
        "import matplotlib.pyplot as plt\n",
        "\n",
        "%matplotlib inline"
      ],
      "execution_count": 0,
      "outputs": []
    },
    {
      "cell_type": "code",
      "metadata": {
        "id": "YKV8kopJi06z",
        "colab_type": "code",
        "outputId": "31fef58b-8dac-4c22-c568-f9530100084b",
        "colab": {
          "base_uri": "https://localhost:8080/",
          "height": 122
        }
      },
      "source": [
        "from google.colab import drive\n",
        "drive.mount('/content/drive')"
      ],
      "execution_count": 2,
      "outputs": [
        {
          "output_type": "stream",
          "text": [
            "Go to this URL in a browser: https://accounts.google.com/o/oauth2/auth?client_id=947318989803-6bn6qk8qdgf4n4g3pfee6491hc0brc4i.apps.googleusercontent.com&redirect_uri=urn%3aietf%3awg%3aoauth%3a2.0%3aoob&response_type=code&scope=email%20https%3a%2f%2fwww.googleapis.com%2fauth%2fdocs.test%20https%3a%2f%2fwww.googleapis.com%2fauth%2fdrive%20https%3a%2f%2fwww.googleapis.com%2fauth%2fdrive.photos.readonly%20https%3a%2f%2fwww.googleapis.com%2fauth%2fpeopleapi.readonly\n",
            "\n",
            "Enter your authorization code:\n",
            "··········\n",
            "Mounted at /content/drive\n"
          ],
          "name": "stdout"
        }
      ]
    },
    {
      "cell_type": "code",
      "metadata": {
        "id": "F6R99hmUvqyf",
        "colab_type": "code",
        "colab": {}
      },
      "source": [
        "AUDIO_DIR = '/content/drive/My Drive/Music Dataset/10sec_500songs'"
      ],
      "execution_count": 0,
      "outputs": []
    },
    {
      "cell_type": "code",
      "metadata": {
        "id": "b9tPOgXjwGr0",
        "colab_type": "code",
        "colab": {}
      },
      "source": [
        "def get_tids_from_directory(audio_dir):\n",
        "    \"\"\"Get track IDs from the mp3s in a directory.\n",
        "    Parameters\n",
        "    ----------\n",
        "    audio_dir : str\n",
        "        Path to the directory where the audio files are stored.\n",
        "    Returns\n",
        "    -------\n",
        "        A list of track IDs.\n",
        "    \"\"\"\n",
        "    tids = []\n",
        "    for _, dirnames, files in os.walk(audio_dir):\n",
        "        if dirnames == []:\n",
        "            tids.extend(int(file[:-4]) for file in files)\n",
        "    return tids\n",
        "\n",
        "\n",
        "def get_audio_path(audio_dir, trackID):\n",
        "    \"\"\"\n",
        "    Return the path to the mp3 given the directory where the audio is stored\n",
        "    and the track ID.\n",
        "    Examples\n",
        "    --------\n",
        "    >>> import utils\n",
        "    >>> AUDIO_DIR = os.environ.get('AUDIO_DIR')\n",
        "    >>> utils.get_audio_path(AUDIO_DIR, 2)\n",
        "    '../data/fma_small/000/000002.mp3'\n",
        "    \"\"\"\n",
        "    tid_str = '{:01d}'.format(trackID)\n",
        "    return os.path.join(audio_dir, tid_str + '.mp3')"
      ],
      "execution_count": 0,
      "outputs": []
    },
    {
      "cell_type": "code",
      "metadata": {
        "id": "wiV1WF71wQ-W",
        "colab_type": "code",
        "outputId": "505bf92c-6133-4b70-f64f-c3d18ab6dea2",
        "colab": {
          "base_uri": "https://localhost:8080/",
          "height": 34
        }
      },
      "source": [
        "\n",
        "tids = get_tids_from_directory(AUDIO_DIR)\n",
        "print(len(tids))"
      ],
      "execution_count": 5,
      "outputs": [
        {
          "output_type": "stream",
          "text": [
            "500\n"
          ],
          "name": "stdout"
        }
      ]
    },
    {
      "cell_type": "code",
      "metadata": {
        "colab_type": "code",
        "id": "Qkz9Hd5N0QtY",
        "colab": {}
      },
      "source": [
        "def create_spectogram(trackID):\n",
        "    filename = get_audio_path(AUDIO_DIR, trackID)\n",
        "  \n",
        "    y, sr = librosa.load(filename)\n",
        "    spect = librosa.feature.melspectrogram(y=y, sr=sr,n_fft=2048, hop_length=1024)\n",
        "    spect = librosa.power_to_db(spect, ref=np.max)\n",
        "    return spect.T"
      ],
      "execution_count": 0,
      "outputs": []
    },
    {
      "cell_type": "code",
      "metadata": {
        "id": "jf0OMdD2zn6C",
        "colab_type": "code",
        "colab": {}
      },
      "source": [
        "\n",
        "def plot_spect(trackID):\n",
        "    spect = create_spectogram(trackID)\n",
        "    print(spect.shape)\n",
        "    plt.figure(figsize=(10, 4))\n",
        "    librosa.display.specshow(spect.T, y_axis='mel', fmax=8000, x_axis='time')\n",
        "    plt.colorbar(format='%+2.0f dB')\n",
        "    plt.show()\n",
        "    print(trackID)"
      ],
      "execution_count": 0,
      "outputs": []
    },
    {
      "cell_type": "code",
      "metadata": {
        "id": "uLM77C_icxBc",
        "colab_type": "code",
        "colab": {}
      },
      "source": [
        ""
      ],
      "execution_count": 0,
      "outputs": []
    },
    {
      "cell_type": "code",
      "metadata": {
        "colab_type": "code",
        "outputId": "504f976b-2fdb-462e-fdac-6272bb6f7f4d",
        "id": "XmQHqTXD9M6r",
        "colab": {
          "base_uri": "https://localhost:8080/",
          "height": 317
        }
      },
      "source": [
        "plot_spect(49)"
      ],
      "execution_count": 8,
      "outputs": [
        {
          "output_type": "stream",
          "text": [
            "(216, 128)\n"
          ],
          "name": "stdout"
        },
        {
          "output_type": "display_data",
          "data": {
            "image/png": "[encoded data removed]",
            "text/plain": [
              "<Figure size 720x288 with 2 Axes>"
            ]
          },
          "metadata": {
            "tags": []
          }
        },
        {
          "output_type": "stream",
          "text": [
            "49\n"
          ],
          "name": "stdout"
        }
      ]
    },
    {
      "cell_type": "code",
      "metadata": {
        "colab_type": "code",
        "outputId": "2cf28e35-3d22-49ff-d585-eb3729510658",
        "id": "OzMPBMAj9zAy",
        "colab": {
          "base_uri": "https://localhost:8080/",
          "height": 318
        }
      },
      "source": [
        "plot_spect(1503)"
      ],
      "execution_count": 0,
      "outputs": [
        {
          "output_type": "stream",
          "text": [
            "(6133, 128)\n"
          ],
          "name": "stdout"
        },
        {
          "output_type": "display_data",
          "data": {
            "image/png": "[encoded data removed]",
            "text/plain": [
              "<Figure size 720x288 with 2 Axes>"
            ]
          },
          "metadata": {
            "tags": []
          }
        },
        {
          "output_type": "stream",
          "text": [
            "1503\n"
          ],
          "name": "stdout"
        }
      ]
    },
    {
      "cell_type": "code",
      "metadata": {
        "id": "W0ihPUojJlRd",
        "colab_type": "code",
        "outputId": "abc62173-43d2-4d56-de85-f350f95675c8",
        "colab": {
          "base_uri": "https://localhost:8080/",
          "height": 318
        }
      },
      "source": [
        "plot_spect(2004)"
      ],
      "execution_count": 0,
      "outputs": [
        {
          "output_type": "stream",
          "text": [
            "(5154, 128)\n"
          ],
          "name": "stdout"
        },
        {
          "output_type": "display_data",
          "data": {
            "image/png": "[encoded data removed]",
            "text/plain": [
              "<Figure size 720x288 with 2 Axes>"
            ]
          },
          "metadata": {
            "tags": []
          }
        },
        {
          "output_type": "stream",
          "text": [
            "2004\n"
          ],
          "name": "stdout"
        }
      ]
    },
    {
      "cell_type": "code",
      "metadata": {
        "id": "EpzNkCsfr8ZJ",
        "colab_type": "code",
        "outputId": "56e2f3e7-08e3-46b9-ae49-4ff140c6ed36",
        "colab": {
          "base_uri": "https://localhost:8080/",
          "height": 235
        }
      },
      "source": [
        "filepath = '/content/drive/My Drive/Music Dataset/10secf - Sheet1(1).csv' \n",
        "tracks = pd.read_csv(filepath, index_col=0, header=[0])\n",
        "tracks.head()\n"
      ],
      "execution_count": 9,
      "outputs": [
        {
          "output_type": "execute_result",
          "data": {
            "text/html": [
              "<div>\n",
              "<style scoped>\n",
              "    .dataframe tbody tr th:only-of-type {\n",
              "        vertical-align: middle;\n",
              "    }\n",
              "\n",
              "    .dataframe tbody tr th {\n",
              "        vertical-align: top;\n",
              "    }\n",
              "\n",
              "    .dataframe thead th {\n",
              "        text-align: right;\n",
              "    }\n",
              "</style>\n",
              "<table border=\"1\" class=\"dataframe\">\n",
              "  <thead>\n",
              "    <tr style=\"text-align: right;\">\n",
              "      <th></th>\n",
              "      <th>mood</th>\n",
              "      <th>split</th>\n",
              "    </tr>\n",
              "    <tr>\n",
              "      <th>track_id</th>\n",
              "      <th></th>\n",
              "      <th></th>\n",
              "    </tr>\n",
              "  </thead>\n",
              "  <tbody>\n",
              "    <tr>\n",
              "      <th>1</th>\n",
              "      <td>Happy</td>\n",
              "      <td>Training</td>\n",
              "    </tr>\n",
              "    <tr>\n",
              "      <th>2</th>\n",
              "      <td>Happy</td>\n",
              "      <td>Training</td>\n",
              "    </tr>\n",
              "    <tr>\n",
              "      <th>3</th>\n",
              "      <td>Happy</td>\n",
              "      <td>Training</td>\n",
              "    </tr>\n",
              "    <tr>\n",
              "      <th>4</th>\n",
              "      <td>Happy</td>\n",
              "      <td>Training</td>\n",
              "    </tr>\n",
              "    <tr>\n",
              "      <th>5</th>\n",
              "      <td>Happy</td>\n",
              "      <td>Training</td>\n",
              "    </tr>\n",
              "  </tbody>\n",
              "</table>\n",
              "</div>"
            ],
            "text/plain": [
              "           mood     split\n",
              "track_id                 \n",
              "1         Happy  Training\n",
              "2         Happy  Training\n",
              "3         Happy  Training\n",
              "4         Happy  Training\n",
              "5         Happy  Training"
            ]
          },
          "metadata": {
            "tags": []
          },
          "execution_count": 9
        }
      ]
    },
    {
      "cell_type": "code",
      "metadata": {
        "id": "YxItCrTALVB4",
        "colab_type": "code",
        "outputId": "f53b1b32-eef4-4957-a92f-68ab91be11d8",
        "colab": {
          "base_uri": "https://localhost:8080/",
          "height": 34
        }
      },
      "source": [
        "list(tracks)"
      ],
      "execution_count": 10,
      "outputs": [
        {
          "output_type": "execute_result",
          "data": {
            "text/plain": [
              "['mood', 'split']"
            ]
          },
          "metadata": {
            "tags": []
          },
          "execution_count": 10
        }
      ]
    },
    {
      "cell_type": "code",
      "metadata": {
        "id": "lDwa2NmgLbJF",
        "colab_type": "code",
        "outputId": "fdc3cbff-6416-4aa0-c07c-f4e4d836ac96",
        "colab": {
          "base_uri": "https://localhost:8080/",
          "height": 235
        }
      },
      "source": [
        "keep_cols = [('mood'),('split')]\n",
        "\n",
        "df_all = tracks[keep_cols]\n",
        "#df_all = df_all[df_all[('set', 'subset')] == 'small']\n",
        "df_all['track_id'] = df_all.index\n",
        "df_all.head()"
      ],
      "execution_count": 11,
      "outputs": [
        {
          "output_type": "execute_result",
          "data": {
            "text/html": [
              "<div>\n",
              "<style scoped>\n",
              "    .dataframe tbody tr th:only-of-type {\n",
              "        vertical-align: middle;\n",
              "    }\n",
              "\n",
              "    .dataframe tbody tr th {\n",
              "        vertical-align: top;\n",
              "    }\n",
              "\n",
              "    .dataframe thead th {\n",
              "        text-align: right;\n",
              "    }\n",
              "</style>\n",
              "<table border=\"1\" class=\"dataframe\">\n",
              "  <thead>\n",
              "    <tr style=\"text-align: right;\">\n",
              "      <th></th>\n",
              "      <th>mood</th>\n",
              "      <th>split</th>\n",
              "      <th>track_id</th>\n",
              "    </tr>\n",
              "    <tr>\n",
              "      <th>track_id</th>\n",
              "      <th></th>\n",
              "      <th></th>\n",
              "      <th></th>\n",
              "    </tr>\n",
              "  </thead>\n",
              "  <tbody>\n",
              "    <tr>\n",
              "      <th>1</th>\n",
              "      <td>Happy</td>\n",
              "      <td>Training</td>\n",
              "      <td>1</td>\n",
              "    </tr>\n",
              "    <tr>\n",
              "      <th>2</th>\n",
              "      <td>Happy</td>\n",
              "      <td>Training</td>\n",
              "      <td>2</td>\n",
              "    </tr>\n",
              "    <tr>\n",
              "      <th>3</th>\n",
              "      <td>Happy</td>\n",
              "      <td>Training</td>\n",
              "      <td>3</td>\n",
              "    </tr>\n",
              "    <tr>\n",
              "      <th>4</th>\n",
              "      <td>Happy</td>\n",
              "      <td>Training</td>\n",
              "      <td>4</td>\n",
              "    </tr>\n",
              "    <tr>\n",
              "      <th>5</th>\n",
              "      <td>Happy</td>\n",
              "      <td>Training</td>\n",
              "      <td>5</td>\n",
              "    </tr>\n",
              "  </tbody>\n",
              "</table>\n",
              "</div>"
            ],
            "text/plain": [
              "           mood     split  track_id\n",
              "track_id                           \n",
              "1         Happy  Training         1\n",
              "2         Happy  Training         2\n",
              "3         Happy  Training         3\n",
              "4         Happy  Training         4\n",
              "5         Happy  Training         5"
            ]
          },
          "metadata": {
            "tags": []
          },
          "execution_count": 11
        }
      ]
    },
    {
      "cell_type": "code",
      "metadata": {
        "id": "gKtOsP3R-tdw",
        "colab_type": "code",
        "outputId": "eafae4b9-cff9-470b-d2bc-0efa02822e14",
        "colab": {
          "base_uri": "https://localhost:8080/",
          "height": 34
        }
      },
      "source": [
        "df_all.shape"
      ],
      "execution_count": 12,
      "outputs": [
        {
          "output_type": "execute_result",
          "data": {
            "text/plain": [
              "(500, 3)"
            ]
          },
          "metadata": {
            "tags": []
          },
          "execution_count": 12
        }
      ]
    },
    {
      "cell_type": "code",
      "metadata": {
        "id": "xKJnLDqeLkI2",
        "colab_type": "code",
        "outputId": "4cbc915b-2596-49d8-a1a2-f2902dc3d66b",
        "colab": {
          "base_uri": "https://localhost:8080/",
          "height": 85
        }
      },
      "source": [
        "df_all[('split')].value_counts()"
      ],
      "execution_count": 13,
      "outputs": [
        {
          "output_type": "execute_result",
          "data": {
            "text/plain": [
              "Training      350\n",
              "Validation     75\n",
              "Testing        75\n",
              "Name: split, dtype: int64"
            ]
          },
          "metadata": {
            "tags": []
          },
          "execution_count": 13
        }
      ]
    },
    {
      "cell_type": "code",
      "metadata": {
        "id": "rTeS-8N5Lotk",
        "colab_type": "code",
        "outputId": "1c546e61-070a-4bdc-9719-a23907296897",
        "colab": {
          "base_uri": "https://localhost:8080/",
          "height": 34
        }
      },
      "source": [
        "df_all[('mood')].unique()"
      ],
      "execution_count": 14,
      "outputs": [
        {
          "output_type": "execute_result",
          "data": {
            "text/plain": [
              "array(['Happy', 'Devotional', 'Sad', 'Romantic', 'Party'], dtype=object)"
            ]
          },
          "metadata": {
            "tags": []
          },
          "execution_count": 14
        }
      ]
    },
    {
      "cell_type": "code",
      "metadata": {
        "id": "jyW9LBvgLsVf",
        "colab_type": "code",
        "colab": {}
      },
      "source": [
        "dict_moods = {'Happy':1, 'Devotional':2, 'Sad':3, 'Romantic':4, \n",
        "               'Party':5  }"
      ],
      "execution_count": 0,
      "outputs": []
    },
    {
      "cell_type": "code",
      "metadata": {
        "id": "B9rzMsC5C2Ab",
        "colab_type": "code",
        "colab": {}
      },
      "source": [
        "def create_array(df):\n",
        "    moods = []\n",
        "    X_spect = np.empty((0, 160, 128))\n",
        "   \n",
        "    count = 0\n",
        "    \n",
        "    #Code skips records in case of errors\n",
        "    for index, row in df.iterrows():\n",
        "     \n",
        "      try:\n",
        "          \n",
        "           count += 1\n",
        "           \n",
        "           trackID = int(row['track_id'])\n",
        "            \n",
        "           genre = str(row[('mood')])\n",
        "           spect =create_spectogram(trackID)\n",
        "           print(spect.shape)\n",
        "          \n",
        "            \n",
        "           # Normalize for small shape differences\n",
        "           spect = spect[:160, :]\n",
        "           print(spect.shape)\n",
        "           X_spect = np.append(X_spect, [spect],axis=0)\n",
        "           moods.append(dict_moods[genre])\n",
        "           if count % 25 == 0:\n",
        "              print(\"Currently processing: \", count)\n",
        "      except:\n",
        "            print(\"Couldn't process: \", count)\n",
        "            continue\n",
        "    y_arr = np.array(moods)\n",
        "    return X_spect, y_arr\n"
      ],
      "execution_count": 0,
      "outputs": []
    },
    {
      "cell_type": "code",
      "metadata": {
        "id": "_k5hTZVxL4Ah",
        "colab_type": "code",
        "outputId": "04f99742-f45b-4643-a5e0-41d06eb1bffd",
        "colab": {
          "base_uri": "https://localhost:8080/",
          "height": 34
        }
      },
      "source": [
        "df_all[('split')].unique()"
      ],
      "execution_count": 17,
      "outputs": [
        {
          "output_type": "execute_result",
          "data": {
            "text/plain": [
              "array(['Training', 'Validation', 'Testing'], dtype=object)"
            ]
          },
          "metadata": {
            "tags": []
          },
          "execution_count": 17
        }
      ]
    },
    {
      "cell_type": "code",
      "metadata": {
        "id": "QiTm91cmL8D5",
        "colab_type": "code",
        "outputId": "509374bd-34fe-48bb-fc30-ef5d97d3dec7",
        "colab": {
          "base_uri": "https://localhost:8080/",
          "height": 34
        }
      },
      "source": [
        "df_train = df_all[df_all[( 'split')]=='Training']\n",
        "df_valid = df_all[df_all[('split')]=='Validation']\n",
        "df_test = df_all[df_all[('split')]=='Testing']\n",
        "\n",
        "print(df_train.shape, df_valid.shape, df_test.shape)"
      ],
      "execution_count": 18,
      "outputs": [
        {
          "output_type": "stream",
          "text": [
            "(350, 3) (75, 3) (75, 3)\n"
          ],
          "name": "stdout"
        }
      ]
    },
    {
      "cell_type": "code",
      "metadata": {
        "id": "mcSyCSlOMAc4",
        "colab_type": "code",
        "outputId": "5a2e25f5-b2b3-4eb6-fd94-e3c5caaac8a4",
        "colab": {
          "base_uri": "https://localhost:8080/",
          "height": 1000
        }
      },
      "source": [
        "X_train, y_train = create_array(df_train)"
      ],
      "execution_count": 0,
      "outputs": [
        {
          "output_type": "stream",
          "text": [
            "(216, 128)\n",
            "(160, 128)\n",
            "(216, 128)\n",
            "(160, 128)\n",
            "(216, 128)\n",
            "(160, 128)\n",
            "(216, 128)\n",
            "(160, 128)\n",
            "(217, 128)\n",
            "(160, 128)\n",
            "(216, 128)\n",
            "(160, 128)\n",
            "(217, 128)\n",
            "(160, 128)\n",
            "(216, 128)\n",
            "(160, 128)\n",
            "(216, 128)\n",
            "(160, 128)\n",
            "(216, 128)\n",
            "(160, 128)\n",
            "(216, 128)\n",
            "(160, 128)\n",
            "(216, 128)\n",
            "(160, 128)\n",
            "(216, 128)\n",
            "(160, 128)\n",
            "(216, 128)\n",
            "(160, 128)\n",
            "(217, 128)\n",
            "(160, 128)\n",
            "(216, 128)\n",
            "(160, 128)\n",
            "(216, 128)\n",
            "(160, 128)\n",
            "(217, 128)\n",
            "(160, 128)\n",
            "(216, 128)\n",
            "(160, 128)\n",
            "(216, 128)\n",
            "(160, 128)\n",
            "(217, 128)\n",
            "(160, 128)\n",
            "(216, 128)\n",
            "(160, 128)\n",
            "(216, 128)\n",
            "(160, 128)\n",
            "(217, 128)\n",
            "(160, 128)\n",
            "(216, 128)\n",
            "(160, 128)\n",
            "Currently processing:  25\n",
            "(216, 128)\n",
            "(160, 128)\n",
            "(216, 128)\n",
            "(160, 128)\n",
            "(216, 128)\n",
            "(160, 128)\n",
            "(216, 128)\n",
            "(160, 128)\n",
            "(216, 128)\n",
            "(160, 128)\n",
            "(216, 128)\n",
            "(160, 128)\n",
            "(216, 128)\n",
            "(160, 128)\n",
            "(216, 128)\n",
            "(160, 128)\n",
            "(216, 128)\n",
            "(160, 128)\n",
            "(216, 128)\n",
            "(160, 128)\n",
            "(216, 128)\n",
            "(160, 128)\n",
            "(217, 128)\n",
            "(160, 128)\n",
            "(216, 128)\n",
            "(160, 128)\n",
            "(216, 128)\n",
            "(160, 128)\n",
            "(216, 128)\n",
            "(160, 128)\n",
            "(216, 128)\n",
            "(160, 128)\n",
            "(216, 128)\n",
            "(160, 128)\n",
            "(217, 128)\n",
            "(160, 128)\n",
            "(216, 128)\n",
            "(160, 128)\n",
            "(216, 128)\n",
            "(160, 128)\n",
            "(216, 128)\n",
            "(160, 128)\n",
            "(216, 128)\n",
            "(160, 128)\n",
            "(216, 128)\n",
            "(160, 128)\n",
            "(216, 128)\n",
            "(160, 128)\n",
            "(216, 128)\n",
            "(160, 128)\n",
            "Currently processing:  50\n",
            "(216, 128)\n",
            "(160, 128)\n",
            "(216, 128)\n",
            "(160, 128)\n",
            "(216, 128)\n",
            "(160, 128)\n",
            "(216, 128)\n",
            "(160, 128)\n",
            "(217, 128)\n",
            "(160, 128)\n",
            "(217, 128)\n",
            "(160, 128)\n",
            "(218, 128)\n",
            "(160, 128)\n",
            "(228, 128)\n",
            "(160, 128)\n",
            "(203, 128)\n",
            "(160, 128)\n",
            "(216, 128)\n",
            "(160, 128)\n",
            "(200, 128)\n",
            "(160, 128)\n",
            "(238, 128)\n",
            "(160, 128)\n",
            "(216, 128)\n",
            "(160, 128)\n",
            "(217, 128)\n",
            "(160, 128)\n",
            "(217, 128)\n",
            "(160, 128)\n",
            "(216, 128)\n",
            "(160, 128)\n",
            "(197, 128)\n",
            "(160, 128)\n",
            "(216, 128)\n",
            "(160, 128)\n",
            "(216, 128)\n",
            "(160, 128)\n",
            "(216, 128)\n",
            "(160, 128)\n",
            "(291, 128)\n",
            "(160, 128)\n",
            "(268, 128)\n",
            "(160, 128)\n",
            "(291, 128)\n",
            "(160, 128)\n",
            "(224, 128)\n",
            "(160, 128)\n",
            "(219, 128)\n",
            "(160, 128)\n",
            "Currently processing:  75\n",
            "(235, 128)\n",
            "(160, 128)\n",
            "(229, 128)\n",
            "(160, 128)\n",
            "(269, 128)\n",
            "(160, 128)\n",
            "(210, 128)\n",
            "(160, 128)\n",
            "(225, 128)\n",
            "(160, 128)\n",
            "(190, 128)\n",
            "(160, 128)\n",
            "(207, 128)\n",
            "(160, 128)\n",
            "(247, 128)\n",
            "(160, 128)\n",
            "(204, 128)\n",
            "(160, 128)\n",
            "(246, 128)\n",
            "(160, 128)\n",
            "(204, 128)\n",
            "(160, 128)\n",
            "(242, 128)\n",
            "(160, 128)\n",
            "(256, 128)\n",
            "(160, 128)\n",
            "(285, 128)\n",
            "(160, 128)\n",
            "(199, 128)\n",
            "(160, 128)\n",
            "(225, 128)\n",
            "(160, 128)\n",
            "(216, 128)\n",
            "(160, 128)\n",
            "(199, 128)\n",
            "(160, 128)\n",
            "(251, 128)\n",
            "(160, 128)\n",
            "(220, 128)\n",
            "(160, 128)\n",
            "(249, 128)\n",
            "(160, 128)\n",
            "(204, 128)\n",
            "(160, 128)\n",
            "(209, 128)\n",
            "(160, 128)\n",
            "(279, 128)\n",
            "(160, 128)\n",
            "(159, 128)\n",
            "(159, 128)\n",
            "Couldn't process:  100\n",
            "(256, 128)\n",
            "(160, 128)\n",
            "(217, 128)\n",
            "(160, 128)\n",
            "(260, 128)\n",
            "(160, 128)\n",
            "(221, 128)\n",
            "(160, 128)\n",
            "(267, 128)\n",
            "(160, 128)\n",
            "(208, 128)\n",
            "(160, 128)\n",
            "(216, 128)\n",
            "(160, 128)\n",
            "(235, 128)\n",
            "(160, 128)\n",
            "(231, 128)\n",
            "(160, 128)\n",
            "(231, 128)\n",
            "(160, 128)\n",
            "(242, 128)\n",
            "(160, 128)\n",
            "(206, 128)\n",
            "(160, 128)\n",
            "(447, 128)\n",
            "(160, 128)\n",
            "(243, 128)\n",
            "(160, 128)\n",
            "(202, 128)\n",
            "(160, 128)\n",
            "(198, 128)\n",
            "(160, 128)\n",
            "(238, 128)\n",
            "(160, 128)\n",
            "(252, 128)\n",
            "(160, 128)\n",
            "(238, 128)\n",
            "(160, 128)\n",
            "(217, 128)\n",
            "(160, 128)\n",
            "(246, 128)\n",
            "(160, 128)\n",
            "(3, 128)\n",
            "(3, 128)\n",
            "Couldn't process:  122\n",
            "(265, 128)\n",
            "(160, 128)\n",
            "(239, 128)\n",
            "(160, 128)\n",
            "(230, 128)\n",
            "(160, 128)\n",
            "Currently processing:  125\n",
            "(226, 128)\n",
            "(160, 128)\n",
            "(272, 128)\n",
            "(160, 128)\n",
            "(242, 128)\n",
            "(160, 128)\n",
            "(234, 128)\n",
            "(160, 128)\n",
            "(235, 128)\n",
            "(160, 128)\n",
            "(246, 128)\n",
            "(160, 128)\n",
            "(211, 128)\n",
            "(160, 128)\n",
            "(216, 128)\n",
            "(160, 128)\n",
            "(249, 128)\n",
            "(160, 128)\n",
            "(216, 128)\n",
            "(160, 128)\n",
            "(220, 128)\n",
            "(160, 128)\n",
            "(216, 128)\n",
            "(160, 128)\n",
            "(227, 128)\n",
            "(160, 128)\n",
            "(220, 128)\n",
            "(160, 128)\n",
            "(223, 128)\n",
            "(160, 128)\n",
            "(474, 128)\n",
            "(160, 128)\n",
            "(292, 128)\n",
            "(160, 128)\n",
            "(295, 128)\n",
            "(160, 128)\n",
            "(490, 128)\n",
            "(160, 128)\n",
            "(335, 128)\n",
            "(160, 128)\n",
            "(759, 128)\n",
            "(160, 128)\n",
            "(355, 128)\n",
            "(160, 128)\n",
            "(381, 128)\n",
            "(160, 128)\n",
            "(211, 128)\n",
            "(160, 128)\n",
            "(533, 128)\n",
            "(160, 128)\n",
            "Currently processing:  150\n",
            "(442, 128)\n",
            "(160, 128)\n",
            "(362, 128)\n",
            "(160, 128)\n",
            "(396, 128)\n",
            "(160, 128)\n",
            "(377, 128)\n",
            "(160, 128)\n",
            "(445, 128)\n",
            "(160, 128)\n",
            "(425, 128)\n",
            "(160, 128)\n",
            "(496, 128)\n",
            "(160, 128)\n",
            "(471, 128)\n",
            "(160, 128)\n",
            "(226, 128)\n",
            "(160, 128)\n",
            "(312, 128)\n",
            "(160, 128)\n",
            "(288, 128)\n",
            "(160, 128)\n",
            "(209, 128)\n",
            "(160, 128)\n",
            "(394, 128)\n",
            "(160, 128)\n",
            "(429, 128)\n",
            "(160, 128)\n",
            "(220, 128)\n",
            "(160, 128)\n",
            "(370, 128)\n",
            "(160, 128)\n",
            "(362, 128)\n",
            "(160, 128)\n",
            "(430, 128)\n",
            "(160, 128)\n",
            "(294, 128)\n",
            "(160, 128)\n",
            "(787, 128)\n",
            "(160, 128)\n",
            "(254, 128)\n",
            "(160, 128)\n",
            "(518, 128)\n",
            "(160, 128)\n",
            "(603, 128)\n",
            "(160, 128)\n",
            "(281, 128)\n",
            "(160, 128)\n",
            "(305, 128)\n",
            "(160, 128)\n",
            "Currently processing:  175\n",
            "(349, 128)\n",
            "(160, 128)\n",
            "(507, 128)\n",
            "(160, 128)\n",
            "(823, 128)\n",
            "(160, 128)\n",
            "(240, 128)\n",
            "(160, 128)\n",
            "(512, 128)\n",
            "(160, 128)\n",
            "(257, 128)\n",
            "(160, 128)\n",
            "(283, 128)\n",
            "(160, 128)\n",
            "(388, 128)\n",
            "(160, 128)\n",
            "(388, 128)\n",
            "(160, 128)\n",
            "(238, 128)\n",
            "(160, 128)\n",
            "(321, 128)\n",
            "(160, 128)\n",
            "(288, 128)\n",
            "(160, 128)\n",
            "(262, 128)\n",
            "(160, 128)\n",
            "(414, 128)\n",
            "(160, 128)\n",
            "(326, 128)\n",
            "(160, 128)\n",
            "(279, 128)\n",
            "(160, 128)\n",
            "(393, 128)\n",
            "(160, 128)\n",
            "(333, 128)\n",
            "(160, 128)\n",
            "(296, 128)\n",
            "(160, 128)\n",
            "(613, 128)\n",
            "(160, 128)\n",
            "(427, 128)\n",
            "(160, 128)\n",
            "(429, 128)\n",
            "(160, 128)\n",
            "(370, 128)\n",
            "(160, 128)\n",
            "(433, 128)\n",
            "(160, 128)\n",
            "(610, 128)\n",
            "(160, 128)\n",
            "Currently processing:  200\n",
            "(223, 128)\n",
            "(160, 128)\n",
            "(277, 128)\n",
            "(160, 128)\n",
            "(425, 128)\n",
            "(160, 128)\n",
            "(326, 128)\n",
            "(160, 128)\n",
            "(613, 128)\n",
            "(160, 128)\n",
            "(288, 128)\n",
            "(160, 128)\n",
            "(566, 128)\n",
            "(160, 128)\n",
            "(294, 128)\n",
            "(160, 128)\n",
            "(365, 128)\n",
            "(160, 128)\n",
            "(293, 128)\n",
            "(160, 128)\n",
            "(230, 128)\n",
            "(160, 128)\n",
            "(254, 128)\n",
            "(160, 128)\n",
            "(213, 128)\n",
            "(160, 128)\n",
            "(240, 128)\n",
            "(160, 128)\n",
            "(207, 128)\n",
            "(160, 128)\n",
            "(236, 128)\n",
            "(160, 128)\n",
            "(247, 128)\n",
            "(160, 128)\n",
            "(234, 128)\n",
            "(160, 128)\n",
            "(230, 128)\n",
            "(160, 128)\n",
            "(247, 128)\n",
            "(160, 128)\n",
            "(239, 128)\n",
            "(160, 128)\n",
            "(236, 128)\n",
            "(160, 128)\n",
            "(237, 128)\n",
            "(160, 128)\n",
            "(223, 128)\n",
            "(160, 128)\n",
            "(216, 128)\n",
            "(160, 128)\n",
            "Currently processing:  225\n",
            "(223, 128)\n",
            "(160, 128)\n",
            "(261, 128)\n",
            "(160, 128)\n",
            "(203, 128)\n",
            "(160, 128)\n",
            "(231, 128)\n",
            "(160, 128)\n",
            "(222, 128)\n",
            "(160, 128)\n",
            "(224, 128)\n",
            "(160, 128)\n",
            "(224, 128)\n",
            "(160, 128)\n",
            "(234, 128)\n",
            "(160, 128)\n",
            "(238, 128)\n",
            "(160, 128)\n",
            "(251, 128)\n",
            "(160, 128)\n",
            "(229, 128)\n",
            "(160, 128)\n",
            "(212, 128)\n",
            "(160, 128)\n",
            "(203, 128)\n",
            "(160, 128)\n",
            "(236, 128)\n",
            "(160, 128)\n",
            "(227, 128)\n",
            "(160, 128)\n",
            "(217, 128)\n",
            "(160, 128)\n",
            "(221, 128)\n",
            "(160, 128)\n",
            "(226, 128)\n",
            "(160, 128)\n",
            "(214, 128)\n",
            "(160, 128)\n",
            "(236, 128)\n",
            "(160, 128)\n",
            "(242, 128)\n",
            "(160, 128)\n",
            "(239, 128)\n",
            "(160, 128)\n",
            "(220, 128)\n",
            "(160, 128)\n",
            "(234, 128)\n",
            "(160, 128)\n",
            "(240, 128)\n",
            "(160, 128)\n",
            "Currently processing:  250\n",
            "(212, 128)\n",
            "(160, 128)\n",
            "(223, 128)\n",
            "(160, 128)\n",
            "(223, 128)\n",
            "(160, 128)\n",
            "(231, 128)\n",
            "(160, 128)\n",
            "(238, 128)\n",
            "(160, 128)\n",
            "(229, 128)\n",
            "(160, 128)\n",
            "(222, 128)\n",
            "(160, 128)\n",
            "(234, 128)\n",
            "(160, 128)\n",
            "(228, 128)\n",
            "(160, 128)\n",
            "(229, 128)\n",
            "(160, 128)\n",
            "(226, 128)\n",
            "(160, 128)\n",
            "(206, 128)\n",
            "(160, 128)\n",
            "(218, 128)\n",
            "(160, 128)\n",
            "(204, 128)\n",
            "(160, 128)\n",
            "(236, 128)\n",
            "(160, 128)\n",
            "(222, 128)\n",
            "(160, 128)\n",
            "(221, 128)\n",
            "(160, 128)\n",
            "(215, 128)\n",
            "(160, 128)\n",
            "(221, 128)\n",
            "(160, 128)\n",
            "(229, 128)\n",
            "(160, 128)\n",
            "(223, 128)\n",
            "(160, 128)\n",
            "(231, 128)\n",
            "(160, 128)\n",
            "(227, 128)\n",
            "(160, 128)\n",
            "(215, 128)\n",
            "(160, 128)\n",
            "(218, 128)\n",
            "(160, 128)\n",
            "Currently processing:  275\n",
            "(218, 128)\n",
            "(160, 128)\n",
            "(228, 128)\n",
            "(160, 128)\n",
            "(213, 128)\n",
            "(160, 128)\n",
            "(211, 128)\n",
            "(160, 128)\n",
            "(227, 128)\n",
            "(160, 128)\n",
            "(186, 128)\n",
            "(160, 128)\n",
            "(197, 128)\n",
            "(160, 128)\n",
            "(199, 128)\n",
            "(160, 128)\n",
            "(195, 128)\n",
            "(160, 128)\n",
            "(184, 128)\n",
            "(160, 128)\n",
            "(180, 128)\n",
            "(160, 128)\n",
            "(178, 128)\n",
            "(160, 128)\n",
            "(199, 128)\n",
            "(160, 128)\n",
            "(180, 128)\n",
            "(160, 128)\n",
            "(197, 128)\n",
            "(160, 128)\n",
            "(204, 128)\n",
            "(160, 128)\n",
            "(202, 128)\n",
            "(160, 128)\n",
            "(193, 128)\n",
            "(160, 128)\n",
            "(189, 128)\n",
            "(160, 128)\n",
            "(206, 128)\n",
            "(160, 128)\n",
            "(210, 128)\n",
            "(160, 128)\n",
            "(195, 128)\n",
            "(160, 128)\n",
            "(199, 128)\n",
            "(160, 128)\n",
            "(195, 128)\n",
            "(160, 128)\n",
            "(175, 128)\n",
            "(160, 128)\n",
            "Currently processing:  300\n",
            "(195, 128)\n",
            "(160, 128)\n",
            "(197, 128)\n",
            "(160, 128)\n",
            "(193, 128)\n",
            "(160, 128)\n",
            "(191, 128)\n",
            "(160, 128)\n",
            "(181, 128)\n",
            "(160, 128)\n",
            "(212, 128)\n",
            "(160, 128)\n",
            "(211, 128)\n",
            "(160, 128)\n",
            "(207, 128)\n",
            "(160, 128)\n",
            "(197, 128)\n",
            "(160, 128)\n",
            "(189, 128)\n",
            "(160, 128)\n",
            "(195, 128)\n",
            "(160, 128)\n",
            "(212, 128)\n",
            "(160, 128)\n",
            "(191, 128)\n",
            "(160, 128)\n",
            "(190, 128)\n",
            "(160, 128)\n",
            "(195, 128)\n",
            "(160, 128)\n",
            "(212, 128)\n",
            "(160, 128)\n",
            "(201, 128)\n",
            "(160, 128)\n",
            "(193, 128)\n",
            "(160, 128)\n",
            "(202, 128)\n",
            "(160, 128)\n",
            "(206, 128)\n",
            "(160, 128)\n",
            "(190, 128)\n",
            "(160, 128)\n",
            "(208, 128)\n",
            "(160, 128)\n",
            "(210, 128)\n",
            "(160, 128)\n",
            "(212, 128)\n",
            "(160, 128)\n",
            "(189, 128)\n",
            "(160, 128)\n",
            "Currently processing:  325\n",
            "(195, 128)\n",
            "(160, 128)\n",
            "(202, 128)\n",
            "(160, 128)\n",
            "(184, 128)\n",
            "(160, 128)\n",
            "(186, 128)\n",
            "(160, 128)\n",
            "(199, 128)\n",
            "(160, 128)\n",
            "(212, 128)\n",
            "(160, 128)\n",
            "(198, 128)\n",
            "(160, 128)\n",
            "(210, 128)\n",
            "(160, 128)\n",
            "(182, 128)\n",
            "(160, 128)\n",
            "(173, 128)\n",
            "(160, 128)\n",
            "(207, 128)\n",
            "(160, 128)\n",
            "(198, 128)\n",
            "(160, 128)\n",
            "(199, 128)\n",
            "(160, 128)\n",
            "(197, 128)\n",
            "(160, 128)\n",
            "(197, 128)\n",
            "(160, 128)\n",
            "(191, 128)\n",
            "(160, 128)\n",
            "(176, 128)\n",
            "(160, 128)\n",
            "(195, 128)\n",
            "(160, 128)\n",
            "(182, 128)\n",
            "(160, 128)\n",
            "(188, 128)\n",
            "(160, 128)\n",
            "(189, 128)\n",
            "(160, 128)\n",
            "(199, 128)\n",
            "(160, 128)\n",
            "(198, 128)\n",
            "(160, 128)\n",
            "(202, 128)\n",
            "(160, 128)\n",
            "(212, 128)\n",
            "(160, 128)\n",
            "Currently processing:  350\n"
          ],
          "name": "stdout"
        }
      ]
    },
    {
      "cell_type": "code",
      "metadata": {
        "id": "HbdnWLqpX0to",
        "colab_type": "code",
        "outputId": "000d9823-5aee-423e-fb1a-ea7092e8a412",
        "colab": {
          "base_uri": "https://localhost:8080/",
          "height": 34
        }
      },
      "source": [
        "print(X_train.shape, y_train.shape)"
      ],
      "execution_count": 0,
      "outputs": [
        {
          "output_type": "stream",
          "text": [
            "(348, 160, 128) (348,)\n"
          ],
          "name": "stdout"
        }
      ]
    },
    {
      "cell_type": "code",
      "metadata": {
        "id": "IUAO5yiVZwt7",
        "colab_type": "code",
        "outputId": "feb0c7bc-e5c8-461c-a9f4-6235fd60efee",
        "colab": {
          "base_uri": "https://localhost:8080/",
          "height": 191
        }
      },
      "source": [
        "print(y_train[:350])"
      ],
      "execution_count": 0,
      "outputs": [
        {
          "output_type": "stream",
          "text": [
            "[1 1 1 1 1 1 1 1 1 1 1 1 1 1 1 1 1 1 1 1 1 1 1 1 1 1 1 1 1 1 1 1 1 1 1 1 1\n",
            " 1 1 1 1 1 1 1 1 1 1 1 1 1 1 1 1 1 1 1 1 1 1 1 1 1 1 1 1 1 1 1 1 1 2 2 2 2\n",
            " 2 2 2 2 2 2 2 2 2 2 2 2 2 2 2 2 2 2 2 2 2 2 2 2 2 2 2 2 2 2 2 2 2 2 2 2 2\n",
            " 2 2 2 2 2 2 2 2 2 2 2 2 2 2 2 2 2 2 2 2 2 2 2 2 2 2 2 3 3 3 3 3 3 3 3 3 3\n",
            " 3 3 3 3 3 3 3 3 3 3 3 3 3 3 3 3 3 3 3 3 3 3 3 3 3 3 3 3 3 3 3 3 3 3 3 3 3\n",
            " 3 3 3 3 3 3 3 3 3 3 3 3 3 3 3 3 3 3 3 3 3 3 3 4 4 4 4 4 4 4 4 4 4 4 4 4 4\n",
            " 4 4 4 4 4 4 4 4 4 4 4 4 4 4 4 4 4 4 4 4 4 4 4 4 4 4 4 4 4 4 4 4 4 4 4 4 4\n",
            " 4 4 4 4 4 4 4 4 4 4 4 4 4 4 4 4 4 4 4 5 5 5 5 5 5 5 5 5 5 5 5 5 5 5 5 5 5\n",
            " 5 5 5 5 5 5 5 5 5 5 5 5 5 5 5 5 5 5 5 5 5 5 5 5 5 5 5 5 5 5 5 5 5 5 5 5 5\n",
            " 5 5 5 5 5 5 5 5 5 5 5 5 5 5 5]\n"
          ],
          "name": "stdout"
        }
      ]
    },
    {
      "cell_type": "code",
      "metadata": {
        "id": "P7aCSho29WNZ",
        "colab_type": "code",
        "colab": {}
      },
      "source": [
        ""
      ],
      "execution_count": 0,
      "outputs": []
    },
    {
      "cell_type": "code",
      "metadata": {
        "id": "PINQTNRb1aX4",
        "colab_type": "code",
        "outputId": "77f2b4ac-e051-4327-c769-ee13f27cd19a",
        "colab": {
          "base_uri": "https://localhost:8080/",
          "height": 1000
        }
      },
      "source": [
        "print(X_train)"
      ],
      "execution_count": 0,
      "outputs": [
        {
          "output_type": "stream",
          "text": [
            "[[[-34.98648409 -27.80671932 -22.78571249 ... -67.73814969 -78.16108178\n",
            "   -80.        ]\n",
            "  [-26.56621134 -12.44012034  -4.66017936 ... -49.65692265 -52.83616428\n",
            "   -63.4828038 ]\n",
            "  [-25.19860972  -6.61837652   0.         ... -46.29983962 -50.0640996\n",
            "   -64.09965357]\n",
            "  ...\n",
            "  [-22.20472928 -12.97169521 -11.76370585 ... -53.56492445 -54.88502691\n",
            "   -67.19154398]\n",
            "  [-24.02576531 -10.53131982 -10.49168673 ... -42.5454853  -47.71648048\n",
            "   -55.82062175]\n",
            "  [-20.65624355 -11.95493006  -9.54958523 ... -45.47078121 -48.48913892\n",
            "   -61.82784106]]\n",
            "\n",
            " [[-77.05114189 -80.         -80.         ... -80.         -80.\n",
            "   -80.        ]\n",
            "  [-66.25702097 -62.26874206 -59.36127529 ... -80.         -80.\n",
            "   -80.        ]\n",
            "  [-44.1783261  -38.54273762 -37.88346647 ... -80.         -80.\n",
            "   -80.        ]\n",
            "  ...\n",
            "  [-40.95811068 -21.94810508 -11.10674421 ... -50.97063725 -55.95730219\n",
            "   -63.82140719]\n",
            "  [-40.35826561 -21.18977205 -11.18140254 ... -49.30929477 -52.97471646\n",
            "   -62.77227808]\n",
            "  [-39.55979038 -21.07999003 -11.16460391 ... -47.87660039 -52.29847352\n",
            "   -62.66221477]]\n",
            "\n",
            " [[-55.86687059 -55.24814178 -54.1026251  ... -80.         -80.\n",
            "   -80.        ]\n",
            "  [-25.66413498 -21.56651925 -28.62294032 ... -56.42175927 -61.26836492\n",
            "   -72.89254366]\n",
            "  [-24.07297149 -21.49996958 -29.12578629 ... -62.91523965 -66.68981209\n",
            "   -73.73348284]\n",
            "  ...\n",
            "  [-14.81971971 -11.18501729  -9.75783232 ... -51.57786036 -56.53253792\n",
            "   -69.3774129 ]\n",
            "  [-27.47256629 -19.89637372  -7.22162552 ... -59.57572093 -62.10002923\n",
            "   -72.57921364]\n",
            "  [-26.82735436 -20.61673786  -8.83945964 ... -54.72131836 -53.72841495\n",
            "   -69.09262805]]\n",
            "\n",
            " ...\n",
            "\n",
            " [[-66.69231248 -66.91138638 -64.66773662 ... -80.         -80.\n",
            "   -80.        ]\n",
            "  [-26.02711728 -23.39297645 -32.45199024 ... -59.79130079 -64.65705922\n",
            "   -77.21863569]\n",
            "  [-30.11365423 -21.65552149 -26.74714375 ... -44.60142305 -51.27777803\n",
            "   -65.29499666]\n",
            "  ...\n",
            "  [-20.37598404  -6.65446567 -10.61241394 ... -47.78940091 -51.28662148\n",
            "   -62.96021707]\n",
            "  [-16.46858433  -7.19759874 -15.62950408 ... -64.04259075 -67.02408776\n",
            "   -80.        ]\n",
            "  [-18.17178387  -7.75846377 -15.63817102 ... -59.074991   -64.85068616\n",
            "   -78.23226371]]\n",
            "\n",
            " [[-15.53608283 -12.2787926   -9.4360669  ... -57.5994754  -58.44038366\n",
            "   -80.        ]\n",
            "  [-12.17581096  -5.99131371  -4.54909479 ... -53.82416401 -61.06145132\n",
            "   -78.0107564 ]\n",
            "  [-19.17703707  -9.63836694 -11.79840711 ... -59.13181157 -65.56475047\n",
            "   -80.        ]\n",
            "  ...\n",
            "  [-24.84766029 -16.88762358 -10.80590432 ... -50.77054638 -58.75773979\n",
            "   -67.60137875]\n",
            "  [-17.90050736 -12.8440864  -13.79861218 ... -47.588962   -53.85939615\n",
            "   -65.88015338]\n",
            "  [-28.16992772 -28.16340534 -19.92861012 ... -53.06200805 -56.72296802\n",
            "   -71.35205531]]\n",
            "\n",
            " [[-40.51635598 -35.93134982 -36.56893485 ... -80.         -80.\n",
            "   -80.        ]\n",
            "  [-39.56488477 -28.63983193 -34.62660368 ... -72.1208842  -75.22470596\n",
            "   -80.        ]\n",
            "  [-55.20878313 -38.10193564 -41.44881974 ... -67.13680121 -69.30451191\n",
            "   -77.85282042]\n",
            "  ...\n",
            "  [-42.29322402 -35.60854152 -26.67816802 ... -60.35598754 -62.97771202\n",
            "   -73.11804737]\n",
            "  [-35.43605882 -29.91623166 -28.65997968 ... -50.12113962 -55.18261573\n",
            "   -66.13877862]\n",
            "  [-34.59059742 -28.04850003 -24.16501874 ... -53.97901726 -61.73373926\n",
            "   -72.58779958]]]\n"
          ],
          "name": "stdout"
        }
      ]
    },
    {
      "cell_type": "code",
      "metadata": {
        "id": "NZzxmm6gniVz",
        "colab_type": "code",
        "outputId": "2b9a3972-cf33-43bb-809c-59d2327e4f52",
        "colab": {
          "base_uri": "https://localhost:8080/",
          "height": 1000
        }
      },
      "source": [
        "X_valid, y_valid = create_array(df_valid)"
      ],
      "execution_count": 0,
      "outputs": [
        {
          "output_type": "stream",
          "text": [
            "(217, 128)\n",
            "(160, 128)\n",
            "(217, 128)\n",
            "(160, 128)\n",
            "(216, 128)\n",
            "(160, 128)\n",
            "(217, 128)\n",
            "(160, 128)\n",
            "(216, 128)\n",
            "(160, 128)\n",
            "(217, 128)\n",
            "(160, 128)\n",
            "(216, 128)\n",
            "(160, 128)\n",
            "(216, 128)\n",
            "(160, 128)\n",
            "(216, 128)\n",
            "(160, 128)\n",
            "(217, 128)\n",
            "(160, 128)\n",
            "(216, 128)\n",
            "(160, 128)\n",
            "(216, 128)\n",
            "(160, 128)\n",
            "(216, 128)\n",
            "(160, 128)\n",
            "(217, 128)\n",
            "(160, 128)\n",
            "(216, 128)\n",
            "(160, 128)\n",
            "(273, 128)\n",
            "(160, 128)\n",
            "(209, 128)\n",
            "(160, 128)\n",
            "(238, 128)\n",
            "(160, 128)\n",
            "(265, 128)\n",
            "(160, 128)\n",
            "(240, 128)\n",
            "(160, 128)\n",
            "(195, 128)\n",
            "(160, 128)\n",
            "(195, 128)\n",
            "(160, 128)\n",
            "(252, 128)\n",
            "(160, 128)\n",
            "(207, 128)\n",
            "(160, 128)\n",
            "(245, 128)\n",
            "(160, 128)\n",
            "Currently processing:  25\n",
            "(226, 128)\n",
            "(160, 128)\n",
            "(231, 128)\n",
            "(160, 128)\n",
            "(249, 128)\n",
            "(160, 128)\n",
            "(199, 128)\n",
            "(160, 128)\n",
            "(206, 128)\n",
            "(160, 128)\n",
            "(313, 128)\n",
            "(160, 128)\n",
            "(374, 128)\n",
            "(160, 128)\n",
            "(443, 128)\n",
            "(160, 128)\n",
            "(301, 128)\n",
            "(160, 128)\n",
            "(492, 128)\n",
            "(160, 128)\n",
            "(410, 128)\n",
            "(160, 128)\n",
            "(497, 128)\n",
            "(160, 128)\n",
            "(591, 128)\n",
            "(160, 128)\n",
            "(399, 128)\n",
            "(160, 128)\n",
            "(527, 128)\n",
            "(160, 128)\n",
            "(822, 128)\n",
            "(160, 128)\n",
            "(641, 128)\n",
            "(160, 128)\n",
            "(548, 128)\n",
            "(160, 128)\n",
            "(729, 128)\n",
            "(160, 128)\n",
            "(639, 128)\n",
            "(160, 128)\n",
            "(234, 128)\n",
            "(160, 128)\n",
            "(224, 128)\n",
            "(160, 128)\n",
            "(243, 128)\n",
            "(160, 128)\n",
            "(235, 128)\n",
            "(160, 128)\n",
            "(213, 128)\n",
            "(160, 128)\n",
            "Currently processing:  50\n",
            "(219, 128)\n",
            "(160, 128)\n",
            "(197, 128)\n",
            "(160, 128)\n",
            "(229, 128)\n",
            "(160, 128)\n",
            "(237, 128)\n",
            "(160, 128)\n",
            "(226, 128)\n",
            "(160, 128)\n",
            "(211, 128)\n",
            "(160, 128)\n",
            "(221, 128)\n",
            "(160, 128)\n",
            "(217, 128)\n",
            "(160, 128)\n",
            "(222, 128)\n",
            "(160, 128)\n",
            "(210, 128)\n",
            "(160, 128)\n",
            "(193, 128)\n",
            "(160, 128)\n",
            "(194, 128)\n",
            "(160, 128)\n",
            "(212, 128)\n",
            "(160, 128)\n",
            "(199, 128)\n",
            "(160, 128)\n",
            "(186, 128)\n",
            "(160, 128)\n",
            "(186, 128)\n",
            "(160, 128)\n",
            "(195, 128)\n",
            "(160, 128)\n",
            "(193, 128)\n",
            "(160, 128)\n",
            "(193, 128)\n",
            "(160, 128)\n",
            "(189, 128)\n",
            "(160, 128)\n",
            "(184, 128)\n",
            "(160, 128)\n",
            "(202, 128)\n",
            "(160, 128)\n",
            "(208, 128)\n",
            "(160, 128)\n",
            "(199, 128)\n",
            "(160, 128)\n",
            "(182, 128)\n",
            "(160, 128)\n",
            "Currently processing:  75\n"
          ],
          "name": "stdout"
        }
      ]
    },
    {
      "cell_type": "code",
      "metadata": {
        "id": "6Y74BSrY9GeE",
        "colab_type": "code",
        "outputId": "3522607e-8d6d-4c22-8dfd-a5baaa77c368",
        "colab": {
          "base_uri": "https://localhost:8080/",
          "height": 69
        }
      },
      "source": [
        "print(y_valid[:75])"
      ],
      "execution_count": 0,
      "outputs": [
        {
          "output_type": "stream",
          "text": [
            "[1 1 1 1 1 1 1 1 1 1 1 1 1 1 1 2 2 2 2 2 2 2 2 2 2 2 2 2 2 2 3 3 3 3 3 3 3\n",
            " 3 3 3 3 3 3 3 3 4 4 4 4 4 4 4 4 4 4 4 4 4 4 4 5 5 5 5 5 5 5 5 5 5 5 5 5 5\n",
            " 5]\n"
          ],
          "name": "stdout"
        }
      ]
    },
    {
      "cell_type": "code",
      "metadata": {
        "id": "H15TQbyR2A0G",
        "colab_type": "code",
        "outputId": "2463874c-4ab5-4aa5-9310-4ba9e35fbba8",
        "colab": {
          "base_uri": "https://localhost:8080/",
          "height": 1000
        }
      },
      "source": [
        "print(X_valid)"
      ],
      "execution_count": 0,
      "outputs": [
        {
          "output_type": "stream",
          "text": [
            "[[[-42.77066229 -41.10763621 -38.87968291 ... -75.1659814  -78.73760045\n",
            "   -80.        ]\n",
            "  [-25.00059075 -15.37308174  -9.51066571 ... -47.57379227 -50.19197686\n",
            "   -66.54539957]\n",
            "  [-29.49674993 -18.56817262  -7.64496304 ... -44.68388832 -49.07055545\n",
            "   -66.09348153]\n",
            "  ...\n",
            "  [-30.48324567 -18.10870023 -17.91744659 ... -55.85678035 -63.28856388\n",
            "   -77.22386469]\n",
            "  [-25.8120798  -23.7917125  -18.27720243 ... -44.45091378 -43.62686789\n",
            "   -55.90896589]\n",
            "  [-14.68597477 -10.23717853  -4.30651355 ... -38.47349988 -42.23582874\n",
            "   -56.09711461]]\n",
            "\n",
            " [[-43.46397268 -44.00559909 -42.16687713 ... -71.31274034 -72.82140542\n",
            "   -80.        ]\n",
            "  [-12.74368157  -7.9920632   -6.06006496 ... -42.62601851 -47.00944636\n",
            "   -57.70588813]\n",
            "  [ -7.56019133  -3.64264425  -2.15145795 ... -44.59973782 -50.23462206\n",
            "   -63.02600973]\n",
            "  ...\n",
            "  [-12.62746935 -10.5464171  -12.14037578 ... -48.74481395 -52.79802384\n",
            "   -65.61002561]\n",
            "  [-14.00728522 -12.65798956 -14.2528352  ... -50.22628567 -55.73253155\n",
            "   -65.58694752]\n",
            "  [-12.59340398 -11.58104115 -17.37045544 ... -51.20331386 -56.94011783\n",
            "   -69.36823882]]\n",
            "\n",
            " [[-67.85744403 -66.15211966 -64.4264314  ... -80.         -80.\n",
            "   -80.        ]\n",
            "  [-34.73734187 -34.52468934 -35.22761507 ... -59.59835602 -65.16337998\n",
            "   -74.47864301]\n",
            "  [-37.50936618 -34.87783335 -35.61885564 ... -56.26170495 -61.78671915\n",
            "   -72.68433858]\n",
            "  ...\n",
            "  [-40.12964768 -38.80701098 -44.87995814 ... -49.47966376 -55.79472105\n",
            "   -62.32752188]\n",
            "  [-52.27327086 -47.85302854 -46.29158371 ... -46.47241088 -50.82858182\n",
            "   -66.02141799]\n",
            "  [-47.27468503 -42.0021536  -44.58431693 ... -43.36672085 -46.02048942\n",
            "   -58.59940678]]\n",
            "\n",
            " ...\n",
            "\n",
            " [[-45.87157404 -40.08295623 -38.49044535 ... -63.34000553 -72.93227092\n",
            "   -79.46803469]\n",
            "  [-40.58674157 -36.81460668 -31.19715598 ... -46.37453565 -54.9475585\n",
            "   -66.52388767]\n",
            "  [-42.88009024 -36.42193514 -26.54603069 ... -43.58781246 -60.29807112\n",
            "   -67.90172078]\n",
            "  ...\n",
            "  [-13.59216464  -7.69452406 -11.60075598 ... -52.61855875 -59.22384435\n",
            "   -67.20107967]\n",
            "  [-20.26855161 -13.86836019 -10.10682511 ... -57.07036964 -61.62960836\n",
            "   -77.60825097]\n",
            "  [-28.5728238  -18.20572649 -13.33111702 ... -52.26901248 -56.40833161\n",
            "   -63.72116359]]\n",
            "\n",
            " [[-57.77910481 -52.57947973 -52.17332404 ... -68.4540911  -63.52277378\n",
            "   -75.11201595]\n",
            "  [-53.65328211 -49.65340252 -38.38292047 ... -57.82084723 -55.46543278\n",
            "   -64.58823299]\n",
            "  [-56.66793356 -60.06885147 -39.82186115 ... -58.48333916 -58.50655891\n",
            "   -69.26694859]\n",
            "  ...\n",
            "  [-42.52912734 -34.22683319 -30.54584001 ... -58.08111454 -60.67866578\n",
            "   -70.43838828]\n",
            "  [-27.12538943 -17.26256218 -21.25058591 ... -48.12192168 -51.59775724\n",
            "   -64.82304779]\n",
            "  [-29.12931933 -18.13439493 -24.21530145 ... -55.5145636  -59.75244931\n",
            "   -70.3068749 ]]\n",
            "\n",
            " [[-17.02758657 -14.15703285 -18.9035515  ... -60.11780213 -61.78745325\n",
            "   -71.65192148]\n",
            "  [-13.7733082   -8.23755764 -20.45410278 ... -54.94860835 -56.04144066\n",
            "   -67.41279621]\n",
            "  [-14.96411295  -9.33265694 -20.69913402 ... -63.00863236 -68.89583142\n",
            "   -79.17756547]\n",
            "  ...\n",
            "  [-46.60756626 -34.10807339 -25.48625852 ... -56.9366234  -62.02140764\n",
            "   -73.80779191]\n",
            "  [-55.94894125 -45.91553747 -37.66942236 ... -61.54555334 -65.63574294\n",
            "   -77.45083809]\n",
            "  [-38.51785829 -34.03100081 -22.90886939 ... -48.06481147 -54.3980524\n",
            "   -67.43051632]]]\n"
          ],
          "name": "stdout"
        }
      ]
    },
    {
      "cell_type": "code",
      "metadata": {
        "id": "d_xeZJyMn0AE",
        "colab_type": "code",
        "outputId": "966a1f34-f79a-4a9f-f0df-1292887ed9b4",
        "colab": {
          "base_uri": "https://localhost:8080/",
          "height": 1000
        }
      },
      "source": [
        "X_test, y_test = create_array(df_test)"
      ],
      "execution_count": 0,
      "outputs": [
        {
          "output_type": "stream",
          "text": [
            "(216, 128)\n",
            "(160, 128)\n",
            "(217, 128)\n",
            "(160, 128)\n",
            "(217, 128)\n",
            "(160, 128)\n",
            "(216, 128)\n",
            "(160, 128)\n",
            "(216, 128)\n",
            "(160, 128)\n",
            "(217, 128)\n",
            "(160, 128)\n",
            "(216, 128)\n",
            "(160, 128)\n",
            "(216, 128)\n",
            "(160, 128)\n",
            "(216, 128)\n",
            "(160, 128)\n",
            "(217, 128)\n",
            "(160, 128)\n",
            "(216, 128)\n",
            "(160, 128)\n",
            "(217, 128)\n",
            "(160, 128)\n",
            "(217, 128)\n",
            "(160, 128)\n",
            "(217, 128)\n",
            "(160, 128)\n",
            "(217, 128)\n",
            "(160, 128)\n",
            "(200, 128)\n",
            "(160, 128)\n",
            "(173, 128)\n",
            "(160, 128)\n",
            "(208, 128)\n",
            "(160, 128)\n",
            "(224, 128)\n",
            "(160, 128)\n",
            "(230, 128)\n",
            "(160, 128)\n",
            "(221, 128)\n",
            "(160, 128)\n",
            "(211, 128)\n",
            "(160, 128)\n",
            "(227, 128)\n",
            "(160, 128)\n",
            "(215, 128)\n",
            "(160, 128)\n",
            "(249, 128)\n",
            "(160, 128)\n",
            "Currently processing:  25\n",
            "(217, 128)\n",
            "(160, 128)\n",
            "(217, 128)\n",
            "(160, 128)\n",
            "(244, 128)\n",
            "(160, 128)\n",
            "(211, 128)\n",
            "(160, 128)\n",
            "(211, 128)\n",
            "(160, 128)\n",
            "(548, 128)\n",
            "(160, 128)\n",
            "(820, 128)\n",
            "(160, 128)\n",
            "(549, 128)\n",
            "(160, 128)\n",
            "(548, 128)\n",
            "(160, 128)\n",
            "(1095, 128)\n",
            "(160, 128)\n",
            "(1278, 128)\n",
            "(160, 128)\n",
            "(367, 128)\n",
            "(160, 128)\n",
            "(458, 128)\n",
            "(160, 128)\n",
            "(639, 128)\n",
            "(160, 128)\n",
            "(649, 128)\n",
            "(160, 128)\n",
            "(425, 128)\n",
            "(160, 128)\n",
            "(630, 128)\n",
            "(160, 128)\n",
            "(492, 128)\n",
            "(160, 128)\n",
            "(1136, 128)\n",
            "(160, 128)\n",
            "(665, 128)\n",
            "(160, 128)\n",
            "(248, 128)\n",
            "(160, 128)\n",
            "(233, 128)\n",
            "(160, 128)\n",
            "(190, 128)\n",
            "(160, 128)\n",
            "(229, 128)\n",
            "(160, 128)\n",
            "(185, 128)\n",
            "(160, 128)\n",
            "Currently processing:  50\n",
            "(247, 128)\n",
            "(160, 128)\n",
            "(233, 128)\n",
            "(160, 128)\n",
            "(242, 128)\n",
            "(160, 128)\n",
            "(235, 128)\n",
            "(160, 128)\n",
            "(251, 128)\n",
            "(160, 128)\n",
            "(245, 128)\n",
            "(160, 128)\n",
            "(229, 128)\n",
            "(160, 128)\n",
            "(231, 128)\n",
            "(160, 128)\n",
            "(249, 128)\n",
            "(160, 128)\n",
            "(253, 128)\n",
            "(160, 128)\n",
            "(208, 128)\n",
            "(160, 128)\n",
            "(193, 128)\n",
            "(160, 128)\n",
            "(191, 128)\n",
            "(160, 128)\n",
            "(191, 128)\n",
            "(160, 128)\n",
            "(185, 128)\n",
            "(160, 128)\n",
            "(199, 128)\n",
            "(160, 128)\n",
            "(182, 128)\n",
            "(160, 128)\n",
            "(197, 128)\n",
            "(160, 128)\n",
            "(191, 128)\n",
            "(160, 128)\n",
            "(199, 128)\n",
            "(160, 128)\n",
            "(180, 128)\n",
            "(160, 128)\n",
            "(191, 128)\n",
            "(160, 128)\n",
            "(195, 128)\n",
            "(160, 128)\n",
            "(190, 128)\n",
            "(160, 128)\n",
            "(197, 128)\n",
            "(160, 128)\n",
            "Currently processing:  75\n"
          ],
          "name": "stdout"
        }
      ]
    },
    {
      "cell_type": "code",
      "metadata": {
        "id": "kMOeWJlIarrj",
        "colab_type": "code",
        "outputId": "b02b7808-1baf-43d3-9786-da0eafed112c",
        "colab": {
          "base_uri": "https://localhost:8080/",
          "height": 69
        }
      },
      "source": [
        "print(y_test[:75])"
      ],
      "execution_count": 0,
      "outputs": [
        {
          "output_type": "stream",
          "text": [
            "[1 1 1 1 1 1 1 1 1 1 1 1 1 1 1 2 2 2 2 2 2 2 2 2 2 2 2 2 2 2 3 3 3 3 3 3 3\n",
            " 3 3 3 3 3 3 3 3 4 4 4 4 4 4 4 4 4 4 4 4 4 4 4 5 5 5 5 5 5 5 5 5 5 5 5 5 5\n",
            " 5]\n"
          ],
          "name": "stdout"
        }
      ]
    },
    {
      "cell_type": "code",
      "metadata": {
        "id": "dNExw6nyrujj",
        "colab_type": "code",
        "colab": {}
      },
      "source": [
        "np.savez('test_arr', X_test, y_test)"
      ],
      "execution_count": 0,
      "outputs": []
    },
    {
      "cell_type": "code",
      "metadata": {
        "id": "FTE6Lz-mARJQ",
        "colab_type": "code",
        "colab": {}
      },
      "source": [
        "np.savez('valid_arr', X_valid, y_valid)"
      ],
      "execution_count": 0,
      "outputs": []
    },
    {
      "cell_type": "code",
      "metadata": {
        "id": "qFd2aqHlsHJU",
        "colab_type": "code",
        "colab": {}
      },
      "source": [
        "def splitDataFrameIntoSmaller(df, chunkSize = 87): \n",
        "    listOfDf = list()\n",
        "    numberChunks = len(df) // chunkSize + 1\n",
        "    for i in range(numberChunks):\n",
        "        listOfDf.append(df[i*chunkSize:(i+1)*chunkSize])\n",
        "    return listOfDf"
      ],
      "execution_count": 0,
      "outputs": []
    },
    {
      "cell_type": "code",
      "metadata": {
        "id": "5l2cc75QsNWf",
        "colab_type": "code",
        "outputId": "134c1377-2691-49ae-efee-4074842ddd99",
        "colab": {
          "base_uri": "https://localhost:8080/",
          "height": 34
        }
      },
      "source": [
        "listDf = splitDataFrameIntoSmaller(df_train)\n",
        "df1_train = listDf[0]\n",
        "df2_train = listDf[1]\n",
        "df3_train = listDf[2]\n",
        "df4_train = listDf[3]\n",
        "print(df1_train.shape, df2_train.shape, df3_train.shape, df4_train.shape)"
      ],
      "execution_count": 0,
      "outputs": [
        {
          "output_type": "stream",
          "text": [
            "(87, 3) (87, 3) (87, 3) (87, 3)\n"
          ],
          "name": "stdout"
        }
      ]
    },
    {
      "cell_type": "code",
      "metadata": {
        "id": "S0Q4EZBPunLA",
        "colab_type": "code",
        "outputId": "b877f68a-4693-4895-b8e5-344228d6e0a2",
        "colab": {
          "base_uri": "https://localhost:8080/",
          "height": 1000
        }
      },
      "source": [
        "X_train1, y_train1 = create_array(df1_train)"
      ],
      "execution_count": 0,
      "outputs": [
        {
          "output_type": "stream",
          "text": [
            "(216, 128)\n",
            "(160, 128)\n",
            "(216, 128)\n",
            "(160, 128)\n",
            "(216, 128)\n",
            "(160, 128)\n",
            "(216, 128)\n",
            "(160, 128)\n",
            "(217, 128)\n",
            "(160, 128)\n",
            "(216, 128)\n",
            "(160, 128)\n",
            "(217, 128)\n",
            "(160, 128)\n",
            "(216, 128)\n",
            "(160, 128)\n",
            "(216, 128)\n",
            "(160, 128)\n",
            "(216, 128)\n",
            "(160, 128)\n",
            "(216, 128)\n",
            "(160, 128)\n",
            "(216, 128)\n",
            "(160, 128)\n",
            "(216, 128)\n",
            "(160, 128)\n",
            "(216, 128)\n",
            "(160, 128)\n",
            "(217, 128)\n",
            "(160, 128)\n",
            "(216, 128)\n",
            "(160, 128)\n",
            "(216, 128)\n",
            "(160, 128)\n",
            "(217, 128)\n",
            "(160, 128)\n",
            "(216, 128)\n",
            "(160, 128)\n",
            "(216, 128)\n",
            "(160, 128)\n",
            "(217, 128)\n",
            "(160, 128)\n",
            "(216, 128)\n",
            "(160, 128)\n",
            "(216, 128)\n",
            "(160, 128)\n",
            "(217, 128)\n",
            "(160, 128)\n",
            "(216, 128)\n",
            "(160, 128)\n",
            "Currently processing:  25\n",
            "(216, 128)\n",
            "(160, 128)\n",
            "(216, 128)\n",
            "(160, 128)\n",
            "(216, 128)\n",
            "(160, 128)\n",
            "(216, 128)\n",
            "(160, 128)\n",
            "(216, 128)\n",
            "(160, 128)\n",
            "(216, 128)\n",
            "(160, 128)\n",
            "(216, 128)\n",
            "(160, 128)\n",
            "(216, 128)\n",
            "(160, 128)\n",
            "(216, 128)\n",
            "(160, 128)\n",
            "(216, 128)\n",
            "(160, 128)\n",
            "(216, 128)\n",
            "(160, 128)\n",
            "(217, 128)\n",
            "(160, 128)\n",
            "(216, 128)\n",
            "(160, 128)\n",
            "(216, 128)\n",
            "(160, 128)\n",
            "(216, 128)\n",
            "(160, 128)\n",
            "(216, 128)\n",
            "(160, 128)\n",
            "(216, 128)\n",
            "(160, 128)\n",
            "(217, 128)\n",
            "(160, 128)\n",
            "(216, 128)\n",
            "(160, 128)\n",
            "(216, 128)\n",
            "(160, 128)\n",
            "(216, 128)\n",
            "(160, 128)\n",
            "(216, 128)\n",
            "(160, 128)\n",
            "(216, 128)\n",
            "(160, 128)\n",
            "(216, 128)\n",
            "(160, 128)\n",
            "(216, 128)\n",
            "(160, 128)\n",
            "Currently processing:  50\n",
            "(216, 128)\n",
            "(160, 128)\n",
            "(216, 128)\n",
            "(160, 128)\n",
            "(216, 128)\n",
            "(160, 128)\n",
            "(216, 128)\n",
            "(160, 128)\n",
            "(217, 128)\n",
            "(160, 128)\n",
            "(217, 128)\n",
            "(160, 128)\n",
            "(218, 128)\n",
            "(160, 128)\n",
            "(228, 128)\n",
            "(160, 128)\n",
            "(203, 128)\n",
            "(160, 128)\n",
            "(216, 128)\n",
            "(160, 128)\n",
            "(200, 128)\n",
            "(160, 128)\n",
            "(238, 128)\n",
            "(160, 128)\n",
            "(216, 128)\n",
            "(160, 128)\n",
            "(217, 128)\n",
            "(160, 128)\n",
            "(217, 128)\n",
            "(160, 128)\n",
            "(216, 128)\n",
            "(160, 128)\n",
            "(197, 128)\n",
            "(160, 128)\n",
            "(216, 128)\n",
            "(160, 128)\n",
            "(216, 128)\n",
            "(160, 128)\n",
            "(216, 128)\n",
            "(160, 128)\n",
            "(291, 128)\n",
            "(160, 128)\n",
            "(268, 128)\n",
            "(160, 128)\n",
            "(291, 128)\n",
            "(160, 128)\n",
            "(224, 128)\n",
            "(160, 128)\n",
            "(219, 128)\n",
            "(160, 128)\n",
            "Currently processing:  75\n",
            "(235, 128)\n",
            "(160, 128)\n",
            "(229, 128)\n",
            "(160, 128)\n",
            "(269, 128)\n",
            "(160, 128)\n",
            "(210, 128)\n",
            "(160, 128)\n",
            "(225, 128)\n",
            "(160, 128)\n",
            "(190, 128)\n",
            "(160, 128)\n",
            "(207, 128)\n",
            "(160, 128)\n",
            "(247, 128)\n",
            "(160, 128)\n",
            "(204, 128)\n",
            "(160, 128)\n",
            "(246, 128)\n",
            "(160, 128)\n",
            "(204, 128)\n",
            "(160, 128)\n",
            "(242, 128)\n",
            "(160, 128)\n"
          ],
          "name": "stdout"
        }
      ]
    },
    {
      "cell_type": "code",
      "metadata": {
        "id": "7yDJQLgzuuum",
        "colab_type": "code",
        "colab": {}
      },
      "source": [
        "np.savez('train1_arr', X_train1, y_train1)"
      ],
      "execution_count": 0,
      "outputs": []
    },
    {
      "cell_type": "code",
      "metadata": {
        "id": "p49_1ivIqaDB",
        "colab_type": "code",
        "outputId": "125c90bb-4115-4789-af20-856cbae60be1",
        "colab": {
          "base_uri": "https://localhost:8080/",
          "height": 1000
        }
      },
      "source": [
        "X_train2, y_train2 = create_array(df2_train)"
      ],
      "execution_count": 0,
      "outputs": [
        {
          "output_type": "stream",
          "text": [
            "(256, 128)\n",
            "(160, 128)\n",
            "(285, 128)\n",
            "(160, 128)\n",
            "(199, 128)\n",
            "(160, 128)\n",
            "(225, 128)\n",
            "(160, 128)\n",
            "(216, 128)\n",
            "(160, 128)\n",
            "(199, 128)\n",
            "(160, 128)\n",
            "(251, 128)\n",
            "(160, 128)\n",
            "(220, 128)\n",
            "(160, 128)\n",
            "(249, 128)\n",
            "(160, 128)\n",
            "(204, 128)\n",
            "(160, 128)\n",
            "(209, 128)\n",
            "(160, 128)\n",
            "(279, 128)\n",
            "(160, 128)\n",
            "(159, 128)\n",
            "(159, 128)\n",
            "Couldn't process:  13\n",
            "(256, 128)\n",
            "(160, 128)\n",
            "(217, 128)\n",
            "(160, 128)\n",
            "(260, 128)\n",
            "(160, 128)\n",
            "(221, 128)\n",
            "(160, 128)\n",
            "(267, 128)\n",
            "(160, 128)\n",
            "(208, 128)\n",
            "(160, 128)\n",
            "(216, 128)\n",
            "(160, 128)\n",
            "(235, 128)\n",
            "(160, 128)\n",
            "(231, 128)\n",
            "(160, 128)\n",
            "(231, 128)\n",
            "(160, 128)\n",
            "(242, 128)\n",
            "(160, 128)\n",
            "(206, 128)\n",
            "(160, 128)\n",
            "Currently processing:  25\n",
            "(447, 128)\n",
            "(160, 128)\n",
            "(243, 128)\n",
            "(160, 128)\n",
            "(202, 128)\n",
            "(160, 128)\n",
            "(198, 128)\n",
            "(160, 128)\n",
            "(238, 128)\n",
            "(160, 128)\n",
            "(252, 128)\n",
            "(160, 128)\n",
            "(238, 128)\n",
            "(160, 128)\n",
            "(217, 128)\n",
            "(160, 128)\n",
            "(246, 128)\n",
            "(160, 128)\n",
            "(3, 128)\n",
            "(3, 128)\n",
            "Couldn't process:  35\n",
            "(265, 128)\n",
            "(160, 128)\n",
            "(239, 128)\n",
            "(160, 128)\n",
            "(230, 128)\n",
            "(160, 128)\n",
            "(226, 128)\n",
            "(160, 128)\n",
            "(272, 128)\n",
            "(160, 128)\n",
            "(242, 128)\n",
            "(160, 128)\n",
            "(234, 128)\n",
            "(160, 128)\n",
            "(235, 128)\n",
            "(160, 128)\n",
            "(246, 128)\n",
            "(160, 128)\n",
            "(211, 128)\n",
            "(160, 128)\n",
            "(216, 128)\n",
            "(160, 128)\n",
            "(249, 128)\n",
            "(160, 128)\n",
            "(216, 128)\n",
            "(160, 128)\n",
            "(220, 128)\n",
            "(160, 128)\n",
            "(216, 128)\n",
            "(160, 128)\n",
            "Currently processing:  50\n",
            "(227, 128)\n",
            "(160, 128)\n",
            "(220, 128)\n",
            "(160, 128)\n",
            "(223, 128)\n",
            "(160, 128)\n",
            "(474, 128)\n",
            "(160, 128)\n",
            "(292, 128)\n",
            "(160, 128)\n",
            "(295, 128)\n",
            "(160, 128)\n",
            "(490, 128)\n",
            "(160, 128)\n",
            "(335, 128)\n",
            "(160, 128)\n",
            "(759, 128)\n",
            "(160, 128)\n",
            "(355, 128)\n",
            "(160, 128)\n",
            "(381, 128)\n",
            "(160, 128)\n",
            "(211, 128)\n",
            "(160, 128)\n",
            "(533, 128)\n",
            "(160, 128)\n",
            "(442, 128)\n",
            "(160, 128)\n",
            "(362, 128)\n",
            "(160, 128)\n",
            "(396, 128)\n",
            "(160, 128)\n",
            "(377, 128)\n",
            "(160, 128)\n",
            "(445, 128)\n",
            "(160, 128)\n",
            "(425, 128)\n",
            "(160, 128)\n",
            "(496, 128)\n",
            "(160, 128)\n",
            "(471, 128)\n",
            "(160, 128)\n",
            "(226, 128)\n",
            "(160, 128)\n",
            "(312, 128)\n",
            "(160, 128)\n",
            "(288, 128)\n",
            "(160, 128)\n",
            "(209, 128)\n",
            "(160, 128)\n",
            "Currently processing:  75\n",
            "(394, 128)\n",
            "(160, 128)\n",
            "(429, 128)\n",
            "(160, 128)\n",
            "(220, 128)\n",
            "(160, 128)\n",
            "(370, 128)\n",
            "(160, 128)\n",
            "(362, 128)\n",
            "(160, 128)\n",
            "(430, 128)\n",
            "(160, 128)\n",
            "(294, 128)\n",
            "(160, 128)\n",
            "(787, 128)\n",
            "(160, 128)\n",
            "(254, 128)\n",
            "(160, 128)\n",
            "(518, 128)\n",
            "(160, 128)\n",
            "(603, 128)\n",
            "(160, 128)\n",
            "(281, 128)\n",
            "(160, 128)\n"
          ],
          "name": "stdout"
        }
      ]
    },
    {
      "cell_type": "code",
      "metadata": {
        "id": "SE0xt76xw4BP",
        "colab_type": "code",
        "colab": {}
      },
      "source": [
        "np.savez('train2_arr', X_train2, y_train2)"
      ],
      "execution_count": 0,
      "outputs": []
    },
    {
      "cell_type": "code",
      "metadata": {
        "id": "ItTTZBOSw7mO",
        "colab_type": "code",
        "outputId": "782f12f8-45d7-4d96-de0f-597863f2da49",
        "colab": {
          "base_uri": "https://localhost:8080/",
          "height": 1000
        }
      },
      "source": [
        "X_train3, y_train3 = create_array(df3_train)"
      ],
      "execution_count": 0,
      "outputs": [
        {
          "output_type": "stream",
          "text": [
            "(305, 128)\n",
            "(160, 128)\n",
            "(349, 128)\n",
            "(160, 128)\n",
            "(507, 128)\n",
            "(160, 128)\n",
            "(823, 128)\n",
            "(160, 128)\n",
            "(240, 128)\n",
            "(160, 128)\n",
            "(512, 128)\n",
            "(160, 128)\n",
            "(257, 128)\n",
            "(160, 128)\n",
            "(283, 128)\n",
            "(160, 128)\n",
            "(388, 128)\n",
            "(160, 128)\n",
            "(388, 128)\n",
            "(160, 128)\n",
            "(238, 128)\n",
            "(160, 128)\n",
            "(321, 128)\n",
            "(160, 128)\n",
            "(288, 128)\n",
            "(160, 128)\n",
            "(262, 128)\n",
            "(160, 128)\n",
            "(414, 128)\n",
            "(160, 128)\n",
            "(326, 128)\n",
            "(160, 128)\n",
            "(279, 128)\n",
            "(160, 128)\n",
            "(393, 128)\n",
            "(160, 128)\n",
            "(333, 128)\n",
            "(160, 128)\n",
            "(296, 128)\n",
            "(160, 128)\n",
            "(613, 128)\n",
            "(160, 128)\n",
            "(427, 128)\n",
            "(160, 128)\n",
            "(429, 128)\n",
            "(160, 128)\n",
            "(370, 128)\n",
            "(160, 128)\n",
            "(433, 128)\n",
            "(160, 128)\n",
            "Currently processing:  25\n",
            "(610, 128)\n",
            "(160, 128)\n",
            "(223, 128)\n",
            "(160, 128)\n",
            "(277, 128)\n",
            "(160, 128)\n",
            "(425, 128)\n",
            "(160, 128)\n",
            "(326, 128)\n",
            "(160, 128)\n",
            "(613, 128)\n",
            "(160, 128)\n",
            "(288, 128)\n",
            "(160, 128)\n",
            "(566, 128)\n",
            "(160, 128)\n",
            "(294, 128)\n",
            "(160, 128)\n",
            "(365, 128)\n",
            "(160, 128)\n",
            "(293, 128)\n",
            "(160, 128)\n",
            "(230, 128)\n",
            "(160, 128)\n",
            "(254, 128)\n",
            "(160, 128)\n",
            "(213, 128)\n",
            "(160, 128)\n",
            "(240, 128)\n",
            "(160, 128)\n",
            "(207, 128)\n",
            "(160, 128)\n",
            "(236, 128)\n",
            "(160, 128)\n",
            "(247, 128)\n",
            "(160, 128)\n",
            "(234, 128)\n",
            "(160, 128)\n",
            "(230, 128)\n",
            "(160, 128)\n",
            "(247, 128)\n",
            "(160, 128)\n",
            "(239, 128)\n",
            "(160, 128)\n",
            "(236, 128)\n",
            "(160, 128)\n",
            "(237, 128)\n",
            "(160, 128)\n",
            "(223, 128)\n",
            "(160, 128)\n",
            "Currently processing:  50\n",
            "(216, 128)\n",
            "(160, 128)\n",
            "(223, 128)\n",
            "(160, 128)\n",
            "(261, 128)\n",
            "(160, 128)\n",
            "(203, 128)\n",
            "(160, 128)\n",
            "(231, 128)\n",
            "(160, 128)\n",
            "(222, 128)\n",
            "(160, 128)\n",
            "(224, 128)\n",
            "(160, 128)\n",
            "(224, 128)\n",
            "(160, 128)\n",
            "(234, 128)\n",
            "(160, 128)\n",
            "(238, 128)\n",
            "(160, 128)\n",
            "(251, 128)\n",
            "(160, 128)\n",
            "(229, 128)\n",
            "(160, 128)\n",
            "(212, 128)\n",
            "(160, 128)\n",
            "(203, 128)\n",
            "(160, 128)\n",
            "(236, 128)\n",
            "(160, 128)\n",
            "(227, 128)\n",
            "(160, 128)\n",
            "(217, 128)\n",
            "(160, 128)\n",
            "(221, 128)\n",
            "(160, 128)\n",
            "(226, 128)\n",
            "(160, 128)\n",
            "(214, 128)\n",
            "(160, 128)\n",
            "(236, 128)\n",
            "(160, 128)\n",
            "(242, 128)\n",
            "(160, 128)\n",
            "(239, 128)\n",
            "(160, 128)\n",
            "(220, 128)\n",
            "(160, 128)\n",
            "(234, 128)\n",
            "(160, 128)\n",
            "Currently processing:  75\n",
            "(240, 128)\n",
            "(160, 128)\n",
            "(212, 128)\n",
            "(160, 128)\n",
            "(223, 128)\n",
            "(160, 128)\n",
            "(223, 128)\n",
            "(160, 128)\n",
            "(231, 128)\n",
            "(160, 128)\n",
            "(238, 128)\n",
            "(160, 128)\n",
            "(229, 128)\n",
            "(160, 128)\n",
            "(222, 128)\n",
            "(160, 128)\n",
            "(234, 128)\n",
            "(160, 128)\n",
            "(228, 128)\n",
            "(160, 128)\n",
            "(229, 128)\n",
            "(160, 128)\n",
            "(226, 128)\n",
            "(160, 128)\n"
          ],
          "name": "stdout"
        }
      ]
    },
    {
      "cell_type": "code",
      "metadata": {
        "id": "sD5QJaiq18lC",
        "colab_type": "code",
        "outputId": "833bc691-4d6f-4974-9e95-1539a8297f25",
        "colab": {
          "base_uri": "https://localhost:8080/",
          "height": 34
        }
      },
      "source": [
        "print(X_train3.shape, y_train3.shape)"
      ],
      "execution_count": 0,
      "outputs": [
        {
          "output_type": "stream",
          "text": [
            "(87, 160, 128) (87,)\n"
          ],
          "name": "stdout"
        }
      ]
    },
    {
      "cell_type": "code",
      "metadata": {
        "id": "8mcnRqqm2h38",
        "colab_type": "code",
        "colab": {}
      },
      "source": [
        "np.savez('train3_arr', X_train3, y_train3)"
      ],
      "execution_count": 0,
      "outputs": []
    },
    {
      "cell_type": "code",
      "metadata": {
        "id": "vpATFgg12ltN",
        "colab_type": "code",
        "outputId": "26a031e7-8d2e-4835-c0cf-a20a0c02c2ea",
        "colab": {
          "base_uri": "https://localhost:8080/",
          "height": 1000
        }
      },
      "source": [
        "X_train4, y_train4 = create_array(df4_train)"
      ],
      "execution_count": 0,
      "outputs": [
        {
          "output_type": "stream",
          "text": [
            "(206, 128)\n",
            "(160, 128)\n",
            "(218, 128)\n",
            "(160, 128)\n",
            "(204, 128)\n",
            "(160, 128)\n",
            "(236, 128)\n",
            "(160, 128)\n",
            "(222, 128)\n",
            "(160, 128)\n",
            "(221, 128)\n",
            "(160, 128)\n",
            "(215, 128)\n",
            "(160, 128)\n",
            "(221, 128)\n",
            "(160, 128)\n",
            "(229, 128)\n",
            "(160, 128)\n",
            "(223, 128)\n",
            "(160, 128)\n",
            "(231, 128)\n",
            "(160, 128)\n",
            "(227, 128)\n",
            "(160, 128)\n",
            "(215, 128)\n",
            "(160, 128)\n",
            "(218, 128)\n",
            "(160, 128)\n",
            "(218, 128)\n",
            "(160, 128)\n",
            "(228, 128)\n",
            "(160, 128)\n",
            "(213, 128)\n",
            "(160, 128)\n",
            "(211, 128)\n",
            "(160, 128)\n",
            "(227, 128)\n",
            "(160, 128)\n",
            "(186, 128)\n",
            "(160, 128)\n",
            "(197, 128)\n",
            "(160, 128)\n",
            "(199, 128)\n",
            "(160, 128)\n",
            "(195, 128)\n",
            "(160, 128)\n",
            "(184, 128)\n",
            "(160, 128)\n",
            "(180, 128)\n",
            "(160, 128)\n",
            "Currently processing:  25\n",
            "(178, 128)\n",
            "(160, 128)\n",
            "(199, 128)\n",
            "(160, 128)\n",
            "(180, 128)\n",
            "(160, 128)\n",
            "(197, 128)\n",
            "(160, 128)\n",
            "(204, 128)\n",
            "(160, 128)\n",
            "(202, 128)\n",
            "(160, 128)\n",
            "(193, 128)\n",
            "(160, 128)\n",
            "(189, 128)\n",
            "(160, 128)\n",
            "(206, 128)\n",
            "(160, 128)\n",
            "(210, 128)\n",
            "(160, 128)\n",
            "(195, 128)\n",
            "(160, 128)\n",
            "(199, 128)\n",
            "(160, 128)\n",
            "(195, 128)\n",
            "(160, 128)\n",
            "(175, 128)\n",
            "(160, 128)\n",
            "(195, 128)\n",
            "(160, 128)\n",
            "(197, 128)\n",
            "(160, 128)\n",
            "(193, 128)\n",
            "(160, 128)\n",
            "(191, 128)\n",
            "(160, 128)\n",
            "(181, 128)\n",
            "(160, 128)\n",
            "(212, 128)\n",
            "(160, 128)\n",
            "(211, 128)\n",
            "(160, 128)\n",
            "(207, 128)\n",
            "(160, 128)\n",
            "(197, 128)\n",
            "(160, 128)\n",
            "(189, 128)\n",
            "(160, 128)\n",
            "(195, 128)\n",
            "(160, 128)\n",
            "Currently processing:  50\n",
            "(212, 128)\n",
            "(160, 128)\n",
            "(191, 128)\n",
            "(160, 128)\n",
            "(190, 128)\n",
            "(160, 128)\n",
            "(195, 128)\n",
            "(160, 128)\n",
            "(212, 128)\n",
            "(160, 128)\n",
            "(201, 128)\n",
            "(160, 128)\n",
            "(193, 128)\n",
            "(160, 128)\n",
            "(202, 128)\n",
            "(160, 128)\n",
            "(206, 128)\n",
            "(160, 128)\n",
            "(190, 128)\n",
            "(160, 128)\n",
            "(208, 128)\n",
            "(160, 128)\n",
            "(210, 128)\n",
            "(160, 128)\n",
            "(212, 128)\n",
            "(160, 128)\n",
            "(189, 128)\n",
            "(160, 128)\n",
            "(195, 128)\n",
            "(160, 128)\n",
            "(202, 128)\n",
            "(160, 128)\n",
            "(184, 128)\n",
            "(160, 128)\n",
            "(186, 128)\n",
            "(160, 128)\n",
            "(199, 128)\n",
            "(160, 128)\n",
            "(212, 128)\n",
            "(160, 128)\n",
            "(198, 128)\n",
            "(160, 128)\n",
            "(210, 128)\n",
            "(160, 128)\n",
            "(182, 128)\n",
            "(160, 128)\n",
            "(173, 128)\n",
            "(160, 128)\n",
            "(207, 128)\n",
            "(160, 128)\n",
            "Currently processing:  75\n",
            "(198, 128)\n",
            "(160, 128)\n",
            "(199, 128)\n",
            "(160, 128)\n",
            "(197, 128)\n",
            "(160, 128)\n",
            "(197, 128)\n",
            "(160, 128)\n",
            "(191, 128)\n",
            "(160, 128)\n",
            "(176, 128)\n",
            "(160, 128)\n",
            "(195, 128)\n",
            "(160, 128)\n",
            "(182, 128)\n",
            "(160, 128)\n",
            "(188, 128)\n",
            "(160, 128)\n",
            "(189, 128)\n",
            "(160, 128)\n",
            "(199, 128)\n",
            "(160, 128)\n",
            "(198, 128)\n",
            "(160, 128)\n"
          ],
          "name": "stdout"
        }
      ]
    },
    {
      "cell_type": "code",
      "metadata": {
        "id": "Al3_tNU-7ERG",
        "colab_type": "code",
        "colab": {}
      },
      "source": [
        "np.savez('train4_arr', X_train4, y_train4)"
      ],
      "execution_count": 0,
      "outputs": []
    },
    {
      "cell_type": "code",
      "metadata": {
        "id": "6AqMUVyR7IaY",
        "colab_type": "code",
        "outputId": "b0441b3b-7bdc-41b3-f869-368b159d1854",
        "colab": {
          "base_uri": "https://localhost:8080/",
          "height": 34
        }
      },
      "source": [
        "print(X_train4.shape, y_train4.shape)"
      ],
      "execution_count": 0,
      "outputs": [
        {
          "output_type": "stream",
          "text": [
            "(87, 160, 128) (87,)\n"
          ],
          "name": "stdout"
        }
      ]
    },
    {
      "cell_type": "code",
      "metadata": {
        "id": "4ZtysukKvyez",
        "colab_type": "code",
        "outputId": "59a71044-d262-40c1-acf6-81124ffb9a76",
        "colab": {
          "base_uri": "https://localhost:8080/",
          "height": 51
        }
      },
      "source": [
        "npzfile = np.load('/content/drive/My Drive/Music Dataset/NPZ_10 Sec/train1_arr.npz')\n",
        "print(npzfile.files)\n",
        "X_train1 = npzfile['arr_0']\n",
        "y_train1 = npzfile['arr_1']\n",
        "print(X_train1.shape, y_train1.shape)"
      ],
      "execution_count": 60,
      "outputs": [
        {
          "output_type": "stream",
          "text": [
            "['arr_0', 'arr_1']\n",
            "(87, 160, 128) (87,)\n"
          ],
          "name": "stdout"
        }
      ]
    },
    {
      "cell_type": "code",
      "metadata": {
        "id": "Zw1Ef4EX7St4",
        "colab_type": "code",
        "outputId": "221cc4f1-dd4f-4ff1-df0a-76dd42f4cbe2",
        "colab": {
          "base_uri": "https://localhost:8080/",
          "height": 51
        }
      },
      "source": [
        "npzfile = np.load('/content/drive/My Drive/Music Dataset/NPZ_10 Sec/train2_arr.npz')\n",
        "print(npzfile.files)\n",
        "X_train2 = npzfile['arr_0']\n",
        "y_train2 = npzfile['arr_1']\n",
        "print(X_train2.shape, y_train2.shape)"
      ],
      "execution_count": 61,
      "outputs": [
        {
          "output_type": "stream",
          "text": [
            "['arr_0', 'arr_1']\n",
            "(85, 160, 128) (85,)\n"
          ],
          "name": "stdout"
        }
      ]
    },
    {
      "cell_type": "code",
      "metadata": {
        "id": "fFzd8Z4V7UH9",
        "colab_type": "code",
        "outputId": "c04e54bf-551a-4abb-f011-e0f66401e5dc",
        "colab": {
          "base_uri": "https://localhost:8080/",
          "height": 51
        }
      },
      "source": [
        "npzfile = np.load('/content/drive/My Drive/Music Dataset/NPZ_10 Sec/train3_arr.npz')\n",
        "print(npzfile.files)\n",
        "X_train3 = npzfile['arr_0']\n",
        "y_train3 = npzfile['arr_1']\n",
        "print(X_train3.shape, y_train3.shape)"
      ],
      "execution_count": 62,
      "outputs": [
        {
          "output_type": "stream",
          "text": [
            "['arr_0', 'arr_1']\n",
            "(87, 160, 128) (87,)\n"
          ],
          "name": "stdout"
        }
      ]
    },
    {
      "cell_type": "code",
      "metadata": {
        "id": "Xuw0dH4x7VK7",
        "colab_type": "code",
        "outputId": "da85b8f9-82bd-44f7-fb6d-aa55515a99eb",
        "colab": {
          "base_uri": "https://localhost:8080/",
          "height": 51
        }
      },
      "source": [
        "npzfile = np.load('/content/drive/My Drive/Music Dataset/NPZ_10 Sec/train4_arr.npz')\n",
        "print(npzfile.files)\n",
        "X_train4 = npzfile['arr_0']\n",
        "y_train4 = npzfile['arr_1']\n",
        "print(X_train4.shape, y_train4.shape)"
      ],
      "execution_count": 63,
      "outputs": [
        {
          "output_type": "stream",
          "text": [
            "['arr_0', 'arr_1']\n",
            "(87, 160, 128) (87,)\n"
          ],
          "name": "stdout"
        }
      ]
    },
    {
      "cell_type": "code",
      "metadata": {
        "id": "QHgps10Hv38L",
        "colab_type": "code",
        "outputId": "b51dcb1d-ed4b-463b-a7cf-ede507dcbe5a",
        "colab": {
          "base_uri": "https://localhost:8080/",
          "height": 51
        }
      },
      "source": [
        "npzfile = np.load('/content/drive/My Drive/Music Dataset/NPZ_10 Sec/valid_arr.npz')\n",
        "print(npzfile.files)\n",
        "X_valid = npzfile['arr_0']\n",
        "y_valid = npzfile['arr_1']\n",
        "print(X_valid.shape, y_valid.shape)"
      ],
      "execution_count": 64,
      "outputs": [
        {
          "output_type": "stream",
          "text": [
            "['arr_0', 'arr_1']\n",
            "(75, 160, 128) (75,)\n"
          ],
          "name": "stdout"
        }
      ]
    },
    {
      "cell_type": "code",
      "metadata": {
        "colab_type": "code",
        "outputId": "e7e594c7-942f-4297-e511-2bebc589e710",
        "id": "cS_LYeDcXsQa",
        "colab": {
          "base_uri": "https://localhost:8080/",
          "height": 34
        }
      },
      "source": [
        "X_train = np.concatenate((X_train1, X_train2, X_train3, X_train4), axis = 0)\n",
        "y_train = np.concatenate((y_train1, y_train2, y_train3, y_train4), axis = 0)\n",
        "print(X_train.shape, y_train.shape)\n"
      ],
      "execution_count": 65,
      "outputs": [
        {
          "output_type": "stream",
          "text": [
            "(346, 160, 128) (346,)\n"
          ],
          "name": "stdout"
        }
      ]
    },
    {
      "cell_type": "code",
      "metadata": {
        "id": "PPRp6giewb6b",
        "colab_type": "code",
        "outputId": "11d37f4b-0a55-4673-e9d3-2efe3dc4101e",
        "colab": {
          "base_uri": "https://localhost:8080/",
          "height": 51
        }
      },
      "source": [
        "## Convert y data from scale 0-7\n",
        "print(np.amin(X_train), np.amax(X_train), np.mean(X_train))\n",
        "y_train = y_train -1\n",
        "y_valid = y_valid -1\n",
        "print(np.amin(y_train), np.amax(y_train), np.mean(y_train))"
      ],
      "execution_count": 66,
      "outputs": [
        {
          "output_type": "stream",
          "text": [
            "-80.0 0.0 -39.10545856985884\n",
            "0 4 1.9942196531791907\n"
          ],
          "name": "stdout"
        }
      ]
    },
    {
      "cell_type": "code",
      "metadata": {
        "id": "NwWejTYYw9b1",
        "colab_type": "code",
        "outputId": "a1b1b159-b3b4-4752-9467-981fd276ecc3",
        "colab": {
          "base_uri": "https://localhost:8080/",
          "height": 34
        }
      },
      "source": [
        "### Convert the scale of training data\n",
        "X_train_raw = librosa.core.db_to_power(X_train, ref=1.0)\n",
        "print(np.amin(X_train_raw), np.amax(X_train_raw), np.mean(X_train_raw))"
      ],
      "execution_count": 67,
      "outputs": [
        {
          "output_type": "stream",
          "text": [
            "1e-08 1.0 0.005086861505526967\n"
          ],
          "name": "stdout"
        }
      ]
    },
    {
      "cell_type": "code",
      "metadata": {
        "id": "qkXesxBKxIB8",
        "colab_type": "code",
        "outputId": "4275b5cd-ecf7-4ecb-8536-8e161c39e126",
        "colab": {
          "base_uri": "https://localhost:8080/",
          "height": 34
        }
      },
      "source": [
        "X_train_log = np.log(X_train_raw)\n",
        "print(np.amin(X_train_log), np.amax(X_train_log), np.mean(X_train_log))"
      ],
      "execution_count": 68,
      "outputs": [
        {
          "output_type": "stream",
          "text": [
            "-18.420680743952367 0.0 -9.00436459576533\n"
          ],
          "name": "stdout"
        }
      ]
    },
    {
      "cell_type": "code",
      "metadata": {
        "id": "y90dNdaJxRsk",
        "colab_type": "code",
        "colab": {}
      },
      "source": [
        "X_valid_raw = librosa.core.db_to_power(X_valid, ref=1.0)\n",
        "X_valid_log = np.log(X_valid_raw)"
      ],
      "execution_count": 0,
      "outputs": []
    },
    {
      "cell_type": "code",
      "metadata": {
        "id": "vobI6QrnxWSX",
        "colab_type": "code",
        "colab": {}
      },
      "source": [
        " def unison_shuffled_copies(a, b):\n",
        "    assert len(a) == len(b)\n",
        "    p = np.random.permutation(len(a))\n",
        "    return a[p], b[p]\n",
        "\n",
        "X_train, y_train = unison_shuffled_copies(X_train_log, y_train)\n",
        "X_valid, y_valid = unison_shuffled_copies(X_valid_log, y_valid)\n"
      ],
      "execution_count": 0,
      "outputs": []
    },
    {
      "cell_type": "code",
      "metadata": {
        "id": "tZSdk5fSxZjB",
        "colab_type": "code",
        "outputId": "f247727a-4fdd-42dc-9115-f51540ed7388",
        "colab": {
          "base_uri": "https://localhost:8080/",
          "height": 34
        }
      },
      "source": [
        "print(\"Shapes are: \", X_train.shape, X_valid.shape, y_train.shape, y_valid.shape)"
      ],
      "execution_count": 71,
      "outputs": [
        {
          "output_type": "stream",
          "text": [
            "Shapes are:  (346, 160, 128) (75, 160, 128) (346,) (75,)\n"
          ],
          "name": "stdout"
        }
      ]
    },
    {
      "cell_type": "code",
      "metadata": {
        "id": "JOG0JSTixf3r",
        "colab_type": "code",
        "colab": {}
      },
      "source": [
        "#don't run\n",
        "np.savez('shuffled_train', X_train, y_train)\n",
        "np.savez('shuffled_valid', X_valid, y_valid)"
      ],
      "execution_count": 0,
      "outputs": []
    },
    {
      "cell_type": "code",
      "metadata": {
        "id": "wd3osKWEpbzT",
        "colab_type": "code",
        "colab": {}
      },
      "source": [
        "import numpy as np\n",
        "import os\n",
        "from os.path import isfile\n",
        "import keras\n",
        "from keras.models import Sequential, Model\n",
        "from keras.layers import Input, Dense, Bidirectional, LSTM, Dropout, Activation, GRU\n",
        "from keras.layers import Conv2D, concatenate, MaxPooling2D, Flatten, Embedding, Lambda\n",
        "\n",
        "\n",
        "from keras.callbacks import ModelCheckpoint, TensorBoard, ReduceLROnPlateau\n",
        "from keras import backend as K\n",
        "from keras.utils import np_utils\n",
        "from keras.optimizers import Adam, RMSprop\n",
        "\n",
        "from keras import regularizers\n",
        "\n",
        "\n",
        "import librosa\n",
        "import librosa.display\n",
        "import matplotlib.pyplot as plt\n",
        "%matplotlib inline"
      ],
      "execution_count": 0,
      "outputs": []
    },
    {
      "cell_type": "code",
      "metadata": {
        "id": "79dXvp8Mpm5T",
        "colab_type": "code",
        "outputId": "ecdf124e-10c2-4ab8-f40d-da430394531b",
        "colab": {
          "base_uri": "https://localhost:8080/",
          "height": 34
        }
      },
      "source": [
        "dict_genres = {'Happy':1, 'Devotional':2, 'Sad':3, 'Romantic':4, \n",
        "               'Party':5 }\n",
        "\n",
        "\n",
        "reverse_map = {v: k for k, v in dict_genres.items()}\n",
        "print(reverse_map)\n"
      ],
      "execution_count": 74,
      "outputs": [
        {
          "output_type": "stream",
          "text": [
            "{1: 'Happy', 2: 'Devotional', 3: 'Sad', 4: 'Romantic', 5: 'Party'}\n"
          ],
          "name": "stdout"
        }
      ]
    },
    {
      "cell_type": "code",
      "metadata": {
        "id": "PqleMVf2ptUZ",
        "colab_type": "code",
        "outputId": "dd380c97-df76-4258-8f40-5d65055f2ce2",
        "colab": {
          "base_uri": "https://localhost:8080/",
          "height": 51
        }
      },
      "source": [
        "npzfile = np.load('/content/drive/My Drive/Music Dataset/NPZ_10 Sec/shuffled_train.npz')\n",
        "print(npzfile.files)\n",
        "X_train = npzfile['arr_0']\n",
        "y_train = npzfile['arr_1']\n",
        "print(X_train.shape, y_train.shape)\n"
      ],
      "execution_count": 75,
      "outputs": [
        {
          "output_type": "stream",
          "text": [
            "['arr_0', 'arr_1']\n",
            "(346, 160, 128) (346,)\n"
          ],
          "name": "stdout"
        }
      ]
    },
    {
      "cell_type": "code",
      "metadata": {
        "id": "cVa_BTq7r1KR",
        "colab_type": "code",
        "outputId": "ad9cacd2-7940-4f26-a271-16445a359b12",
        "colab": {
          "base_uri": "https://localhost:8080/",
          "height": 187
        }
      },
      "source": [
        "print(y_train)"
      ],
      "execution_count": 76,
      "outputs": [
        {
          "output_type": "stream",
          "text": [
            "[2 0 0 0 3 3 2 0 3 0 3 3 0 3 4 2 2 2 4 1 4 2 3 1 0 0 1 4 0 4 4 4 1 0 3 1 0\n",
            " 2 0 4 0 3 2 3 0 2 0 3 1 3 0 4 1 4 2 2 1 1 1 4 1 1 2 2 0 2 3 1 3 0 1 2 1 3\n",
            " 3 4 3 2 0 4 1 1 4 3 0 4 4 0 2 3 1 2 4 1 0 4 4 3 3 4 2 2 1 1 2 2 3 3 1 0 4\n",
            " 4 3 2 1 0 4 3 2 1 2 2 0 0 4 1 3 0 3 1 3 3 1 2 0 2 4 2 3 3 3 3 3 0 1 0 2 4\n",
            " 3 3 0 4 4 3 3 0 0 3 2 3 4 2 0 1 4 3 2 2 3 3 0 4 2 2 2 4 2 3 3 0 0 4 1 3 3\n",
            " 1 1 1 2 0 2 3 0 4 2 0 4 1 0 3 4 3 3 1 3 4 4 4 4 1 1 1 2 1 3 4 1 0 2 1 4 2\n",
            " 3 0 1 3 0 0 4 1 3 1 3 1 4 4 0 0 0 2 0 3 4 0 3 2 1 1 2 1 1 1 0 0 2 1 2 1 4\n",
            " 2 4 1 1 3 0 4 2 2 4 1 3 0 4 2 1 4 4 4 0 4 2 1 3 4 0 1 4 1 1 0 3 4 0 0 2 3\n",
            " 4 4 0 2 1 3 2 2 4 1 2 4 1 0 1 2 4 4 0 4 3 1 3 2 2 4 2 3 2 0 2 2 0 4 2 2 2\n",
            " 0 0 0 2 0 0 1 4 1 0 3 3 1]\n"
          ],
          "name": "stdout"
        }
      ]
    },
    {
      "cell_type": "code",
      "metadata": {
        "id": "wUpPke_J7xwr",
        "colab_type": "code",
        "colab": {}
      },
      "source": [
        "from sklearn import preprocessing\n",
        "lb = preprocessing.LabelBinarizer()\n",
        "lb.fit(np.array([[0, 1, 1, 1, 1], [1, 0, 0, 0, 0]]))\n",
        "#LabelBinarizer(neg_label=0, pos_label=1, sparse_output=False)\n",
        "lb.classes_\n",
        "#array([0, 1, 2, 3, 4])\n",
        "y_train = lb.transform([2, 0, 0, 0, 3, 3, 2, 0, 3, 0, 3, 3, 0, 3, 4, 2, 2, 2, 4, 1, 4, 2, 3, 1, 0, 0, 1, 4, 0, 4, 4, 4, 1, 0, 3, 1, 0,\n",
        " 2, 0, 4, 0, 3, 2, 3, 0, 2, 0, 3, 1, 3, 0, 4, 1, 4, 2, 2, 1, 1, 1, 4, 1, 1, 2, 2, 0, 2, 3, 1, 3, 0, 1, 2, 1, 3,\n",
        " 3, 4, 3, 2, 0, 4, 1, 1, 4, 3, 0, 4, 4, 0, 2, 3, 1, 2, 4, 1, 0, 4, 4, 3, 3, 4, 2, 2, 1, 1, 2, 2, 3, 3, 1, 0, 4,\n",
        " 4, 3, 2, 1, 0, 4, 3, 2, 1, 2, 2, 0, 0, 4, 1, 3, 0, 3, 1, 3, 3, 1, 2, 0, 2, 4, 2, 3, 3, 3, 3, 3, 0, 1, 0, 2, 4,\n",
        " 3, 3, 0, 4, 4, 3, 3, 0, 0, 3, 2, 3, 4, 2, 0, 1, 4, 3, 2, 2, 3, 3, 0, 4, 2, 2, 2, 4, 2, 3, 3, 0, 0, 4, 1, 3, 3,\n",
        " 1, 1, 1, 2, 0, 2, 3, 0, 4, 2, 0, 4, 1, 0, 3, 4, 3, 3, 1, 3, 4, 4, 4, 4, 1, 1, 1, 2, 1, 3, 4, 1, 0, 2, 1, 4, 2,\n",
        " 3, 0, 1, 3, 0, 0, 4, 1, 3, 1, 3, 1, 4, 4, 0, 0, 0, 2, 0, 3, 4, 0, 3, 2, 1, 1, 2, 1, 1, 1, 0, 0, 2, 1, 2, 1, 4,\n",
        " 2, 4, 1, 1, 3, 0, 4, 2, 2, 4, 1, 3, 0, 4, 2, 1, 4, 4, 4, 0, 4, 2, 1, 3, 4, 0, 1, 4, 1, 1, 0, 3, 4, 0, 0, 2, 3,\n",
        " 4, 4, 0, 2, 1, 3, 2, 2, 4, 1, 2, 4, 1, 0, 1, 2, 4, 4, 0, 4, 3, 1, 3, 2, 2, 4, 2, 3, 2, 0, 2, 2, 0, 4, 2, 2, 2,\n",
        " 0, 0, 0, 2, 0, 0, 1, 4, 1, 0, 3, 3, 1])"
      ],
      "execution_count": 0,
      "outputs": []
    },
    {
      "cell_type": "code",
      "metadata": {
        "id": "2_DSYyGpp1Qv",
        "colab_type": "code",
        "outputId": "c0d891ec-d867-4a57-b75c-b20c543bbf5d",
        "colab": {
          "base_uri": "https://localhost:8080/",
          "height": 51
        }
      },
      "source": [
        "npzfile = np.load('/content/drive/My Drive/Music Dataset/NPZ_10 Sec/shuffled_valid.npz')\n",
        "print(npzfile.files)\n",
        "X_valid = npzfile['arr_0']\n",
        "y_valid = npzfile['arr_1']\n",
        "print(X_valid.shape, y_valid.shape)"
      ],
      "execution_count": 78,
      "outputs": [
        {
          "output_type": "stream",
          "text": [
            "['arr_0', 'arr_1']\n",
            "(75, 160, 128) (75,)\n"
          ],
          "name": "stdout"
        }
      ]
    },
    {
      "cell_type": "code",
      "metadata": {
        "id": "YESzDVVDR1GD",
        "colab_type": "code",
        "outputId": "5fa5ca50-044f-47c7-d94a-0a7f9ad4fa2e",
        "colab": {
          "base_uri": "https://localhost:8080/",
          "height": 68
        }
      },
      "source": [
        "print(y_valid)"
      ],
      "execution_count": 79,
      "outputs": [
        {
          "output_type": "stream",
          "text": [
            "[3 2 2 1 2 0 1 0 2 3 4 2 4 4 1 1 2 4 3 2 3 3 4 1 1 1 2 3 1 3 0 2 0 0 0 0 2\n",
            " 4 3 0 4 0 2 4 0 3 4 4 4 2 3 0 2 3 2 1 0 0 4 3 1 1 1 0 3 1 0 1 4 4 3 4 2 1\n",
            " 3]\n"
          ],
          "name": "stdout"
        }
      ]
    },
    {
      "cell_type": "code",
      "metadata": {
        "id": "rhiWCbZvrx-s",
        "colab_type": "code",
        "colab": {}
      },
      "source": [
        "batch_size = 8\n",
        "num_classes = 5\n",
        "n_features = X_train.shape[2]\n",
        "n_time = X_train.shape[1]"
      ],
      "execution_count": 0,
      "outputs": []
    },
    {
      "cell_type": "code",
      "metadata": {
        "id": "RKobcB_i5InY",
        "colab_type": "code",
        "outputId": "cb918783-4885-4c83-e038-0bf15725e0f8",
        "colab": {
          "base_uri": "https://localhost:8080/",
          "height": 136
        }
      },
      "source": [
        "from sklearn import preprocessing\n",
        "lb = preprocessing.LabelBinarizer()\n",
        "lb.fit(np.array([[0, 1, 1, 1, 1], [1, 0, 0, 0, 0]]))\n",
        "#LabelBinarizer(neg_label=0, pos_label=1, sparse_output=False)\n",
        "lb.classes_\n",
        "#array([0, 1, 2, 3, 4])\n",
        "y_valid = lb.transform([3, 2, 2, 1, 2, 0, 1, 0, 2, 3, 4, 2, 4, 4, 1, 1, 2, 4, 3, 2, 3, 3, 4, 1, 1, 1, 2, 3, 1, 3, 0, 2, 0, 0, 0, 0, 2,\n",
        " 4, 3, 0, 4, 0, 2, 4, 0, 3, 4, 4, 4, 2, 3, 0, 2, 3, 2, 1, 0, 0, 4, 3, 1, 1, 1, 0, 3, 1, 0, 1, 4, 4, 3, 4, 2, 1,\n",
        " 3])\n",
        "print(y_train)"
      ],
      "execution_count": 81,
      "outputs": [
        {
          "output_type": "stream",
          "text": [
            "[[0 0 1 0 0]\n",
            " [1 0 0 0 0]\n",
            " [1 0 0 0 0]\n",
            " ...\n",
            " [0 0 0 1 0]\n",
            " [0 0 0 1 0]\n",
            " [0 1 0 0 0]]\n"
          ],
          "name": "stdout"
        }
      ]
    },
    {
      "cell_type": "code",
      "metadata": {
        "colab_type": "code",
        "id": "xdMI0SnJxO7_",
        "colab": {}
      },
      "source": [
        ""
      ],
      "execution_count": 0,
      "outputs": []
    },
    {
      "cell_type": "code",
      "metadata": {
        "id": "8L-kV3t_r4fk",
        "colab_type": "code",
        "colab": {}
      },
      "source": [
        "nb_filters1=16\n",
        "nb_filters2=32\n",
        "nb_filters3=64\n",
        "nb_filters4=64\n",
        "nb_filters5=64\n",
        "ksize = (3,1)\n",
        "pool_size_1= (2,2) \n",
        "pool_size_2= (4,4)\n",
        "pool_size_3 = (4,2)\n",
        "\n",
        "dropout_prob = 0.20\n",
        "dense_size1 = 128\n",
        "lstm_count = 64\n",
        "num_units = 120\n",
        "\n",
        "BATCH_SIZE = 32\n",
        "EPOCH_COUNT = 50\n",
        "L2_regularization = 0.001\n",
        "\n",
        "def conv_recurrent_model_build(model_input):\n",
        "    print('Building model...')\n",
        "    layer = model_input\n",
        "    \n",
        "    ### Convolutional blocks\n",
        "    conv_1 = Conv2D(filters = nb_filters1, kernel_size = ksize, strides=1,\n",
        "                      padding= 'valid', activation='relu', name='conv_1')(layer)\n",
        "    pool_1 = MaxPooling2D(pool_size_1)(conv_1)\n",
        "\n",
        "    conv_2 = Conv2D(filters = nb_filters2, kernel_size = ksize, strides=1,\n",
        "                      padding= 'valid', activation='relu', name='conv_2')(pool_1)\n",
        "    pool_2 = MaxPooling2D(pool_size_1)(conv_2)\n",
        "\n",
        "    conv_3 = Conv2D(filters = nb_filters3, kernel_size = ksize, strides=1,\n",
        "                      padding= 'valid', activation='relu', name='conv_3')(pool_2)\n",
        "    pool_3 = MaxPooling2D(pool_size_1)(conv_3)\n",
        "    \n",
        "    \n",
        "    conv_4 = Conv2D(filters = nb_filters4, kernel_size = ksize, strides=1,\n",
        "                      padding= 'valid', activation='relu', name='conv_4')(pool_3)\n",
        "    pool_4 = MaxPooling2D(pool_size_2)(conv_4)\n",
        "    \n",
        "    \n",
        "   # conv_5 = Conv2D(filters = nb_filters5, kernel_size = ksize, strides=1,\n",
        "                  #    padding= 'valid', activation='relu', name='conv_5')(pool_4)\n",
        "   # pool_5 = MaxPooling2D(pool_size_2)(conv_5)\n",
        "\n",
        "    flatten1 = Flatten()(pool_4)\n",
        "    ### Recurrent Block\n",
        "    \n",
        "    # Pooling layer\n",
        "    pool_lstm1 = MaxPooling2D(pool_size_3, name = 'pool_lstm')(layer)\n",
        "    \n",
        "    # Embedding layer\n",
        "\n",
        "    squeezed = Lambda(lambda x: K.squeeze(x, axis= -1))(pool_lstm1)\n",
        "#     flatten2 = K.squeeze(pool_lstm1, axis = -1)\n",
        "#     dense1 = Dense(dense_size1)(flatten)\n",
        "    \n",
        "    # Bidirectional GRU\n",
        "    lstm = Bidirectional(GRU(lstm_count))(squeezed)  #default merge mode is concat\n",
        "    \n",
        "    # Concat Output\n",
        "    concat = concatenate([flatten1, lstm], axis=-1, name ='concat')\n",
        "    \n",
        "    ## Softmax Output\n",
        "    output = Dense(num_classes, activation = 'softmax', name='preds')(concat)\n",
        "    \n",
        "    model_output = output\n",
        "    model = Model(model_input, model_output)\n",
        "    \n",
        "#     opt = Adam(lr=0.001)\n",
        "    opt = RMSprop(lr=0.0005)  # Optimizer\n",
        "    model.compile(\n",
        "            loss='categorical_crossentropy',\n",
        "            optimizer=opt,\n",
        "            metrics=['accuracy']\n",
        "        )\n",
        "    \n",
        "    print(model.summary())\n",
        "    return model"
      ],
      "execution_count": 0,
      "outputs": []
    },
    {
      "cell_type": "code",
      "metadata": {
        "colab_type": "code",
        "id": "eUYFEQY-EHeY",
        "colab": {}
      },
      "source": [
        "def train_model(x_train, y_train, x_val, y_val):\n",
        "    \n",
        "    n_frequency = 128\n",
        "    n_frames = 160\n",
        "    #reshape and expand dims for conv2d\n",
        "#     x_train = x_train.reshape(-1, n_frequency, n_frames)\n",
        "    x_train = np.expand_dims(x_train, axis = -1)\n",
        "    \n",
        "#     x_val = x_val.reshape(-1, n_frequency, n_frames)\n",
        "    x_val = np.expand_dims(x_val, axis = -1)\n",
        "    \n",
        "    \n",
        "    input_shape = (n_frames, n_frequency, 1)\n",
        "    model_input = Input(input_shape, name='input')\n",
        "    \n",
        "    model = conv_recurrent_model_build(model_input)\n",
        "    \n",
        "#     tb_callback = TensorBoard(log_dir='./logs/4', histogram_freq=1, batch_size=32, write_graph=True, write_grads=False,\n",
        "#                               write_images=False, embeddings_freq=0, embeddings_layer_names=None,\n",
        "#                               embeddings_metadata=None)\n",
        "    checkpoint_callback = ModelCheckpoint('/content/drive/My Drive/Music Dataset/NPZ_10 Sec/weights.best(1).h5', monitor='val_acc', verbose=1,\n",
        "                                          save_best_only=True, mode='max')\n",
        "    \n",
        "    reducelr_callback = ReduceLROnPlateau(\n",
        "                monitor='val_acc', factor=0.5, patience=10, min_delta=0.01,\n",
        "                verbose=1\n",
        "            )\n",
        "    callbacks_list = [checkpoint_callback, reducelr_callback]\n",
        "\n",
        "    # Fit the model and get training history.\n",
        "    print('Training...')\n",
        "    history = model.fit(x_train, y_train, batch_size=BATCH_SIZE, epochs=EPOCH_COUNT, validation_data=(x_val, y_val), verbose=1, callbacks=callbacks_list)\n",
        "\n",
        "    return model, history\n"
      ],
      "execution_count": 0,
      "outputs": []
    },
    {
      "cell_type": "code",
      "metadata": {
        "id": "dOnkJL-ssGnE",
        "colab_type": "code",
        "colab": {}
      },
      "source": [
        "def show_summary_stats(history):\n",
        "    # List all data in history\n",
        "    print(history.history.keys())\n",
        "\n",
        "    # Summarize history for accuracy\n",
        "    plt.plot(history.history['acc'])\n",
        "    plt.plot(history.history['val_acc'])\n",
        "    plt.title('model accuracy')\n",
        "    plt.ylabel('accuracy')\n",
        "    plt.xlabel('epoch')\n",
        "    plt.legend(['train', 'test'], loc='upper left')\n",
        "    plt.show()\n",
        "\n",
        "    # Summarize history for loss\n",
        "    plt.plot(history.history['loss'])\n",
        "    plt.plot(history.history['val_loss'])\n",
        "    plt.title('model loss')\n",
        "    plt.ylabel('loss')\n",
        "    plt.xlabel('epoch')\n",
        "    plt.legend(['train', 'test'], loc='upper left')\n",
        "    plt.show()"
      ],
      "execution_count": 0,
      "outputs": []
    },
    {
      "cell_type": "code",
      "metadata": {
        "id": "jom7Pqt7sNpa",
        "colab_type": "code",
        "outputId": "a319f8eb-85b4-47e8-ff35-b973a832d3ef",
        "colab": {
          "base_uri": "https://localhost:8080/",
          "height": 1000
        }
      },
      "source": [
        "model, history  = train_model(X_train, y_train, X_valid, y_valid)"
      ],
      "execution_count": 85,
      "outputs": [
        {
          "output_type": "stream",
          "text": [
            "Building model...\n",
            "Model: \"model_4\"\n",
            "__________________________________________________________________________________________________\n",
            "Layer (type)                    Output Shape         Param #     Connected to                     \n",
            "==================================================================================================\n",
            "input (InputLayer)              (None, 160, 128, 1)  0                                            \n",
            "__________________________________________________________________________________________________\n",
            "conv_1 (Conv2D)                 (None, 158, 128, 16) 64          input[0][0]                      \n",
            "__________________________________________________________________________________________________\n",
            "max_pooling2d_13 (MaxPooling2D) (None, 79, 64, 16)   0           conv_1[0][0]                     \n",
            "__________________________________________________________________________________________________\n",
            "conv_2 (Conv2D)                 (None, 77, 64, 32)   1568        max_pooling2d_13[0][0]           \n",
            "__________________________________________________________________________________________________\n",
            "max_pooling2d_14 (MaxPooling2D) (None, 38, 32, 32)   0           conv_2[0][0]                     \n",
            "__________________________________________________________________________________________________\n",
            "conv_3 (Conv2D)                 (None, 36, 32, 64)   6208        max_pooling2d_14[0][0]           \n",
            "__________________________________________________________________________________________________\n",
            "max_pooling2d_15 (MaxPooling2D) (None, 18, 16, 64)   0           conv_3[0][0]                     \n",
            "__________________________________________________________________________________________________\n",
            "conv_4 (Conv2D)                 (None, 16, 16, 64)   12352       max_pooling2d_15[0][0]           \n",
            "__________________________________________________________________________________________________\n",
            "pool_lstm (MaxPooling2D)        (None, 40, 64, 1)    0           input[0][0]                      \n",
            "__________________________________________________________________________________________________\n",
            "max_pooling2d_16 (MaxPooling2D) (None, 4, 4, 64)     0           conv_4[0][0]                     \n",
            "__________________________________________________________________________________________________\n",
            "lambda_4 (Lambda)               (None, 40, 64)       0           pool_lstm[0][0]                  \n",
            "__________________________________________________________________________________________________\n",
            "flatten_4 (Flatten)             (None, 1024)         0           max_pooling2d_16[0][0]           \n",
            "__________________________________________________________________________________________________\n",
            "bidirectional_4 (Bidirectional) (None, 128)          49536       lambda_4[0][0]                   \n",
            "__________________________________________________________________________________________________\n",
            "concat (Concatenate)            (None, 1152)         0           flatten_4[0][0]                  \n",
            "                                                                 bidirectional_4[0][0]            \n",
            "__________________________________________________________________________________________________\n",
            "preds (Dense)                   (None, 5)            5765        concat[0][0]                     \n",
            "==================================================================================================\n",
            "Total params: 75,493\n",
            "Trainable params: 75,493\n",
            "Non-trainable params: 0\n",
            "__________________________________________________________________________________________________\n",
            "None\n",
            "Training...\n",
            "Train on 346 samples, validate on 75 samples\n",
            "Epoch 1/50\n",
            "346/346 [==============================] - 6s 19ms/step - loss: 1.7175 - acc: 0.2283 - val_loss: 1.5383 - val_acc: 0.3600\n",
            "\n",
            "Epoch 00001: val_acc improved from -inf to 0.36000, saving model to /content/drive/My Drive/Music Dataset/NPZ_10 Sec/weights.best(1).h5\n",
            "Epoch 2/50\n",
            "346/346 [==============================] - 5s 13ms/step - loss: 1.5850 - acc: 0.2254 - val_loss: 1.5589 - val_acc: 0.3333\n",
            "\n",
            "Epoch 00002: val_acc did not improve from 0.36000\n",
            "Epoch 3/50\n",
            "346/346 [==============================] - 5s 13ms/step - loss: 1.5713 - acc: 0.2717 - val_loss: 1.5288 - val_acc: 0.3067\n",
            "\n",
            "Epoch 00003: val_acc did not improve from 0.36000\n",
            "Epoch 4/50\n",
            "346/346 [==============================] - 5s 13ms/step - loss: 1.4807 - acc: 0.3642 - val_loss: 1.5147 - val_acc: 0.2667\n",
            "\n",
            "Epoch 00004: val_acc did not improve from 0.36000\n",
            "Epoch 5/50\n",
            "346/346 [==============================] - 5s 13ms/step - loss: 1.5036 - acc: 0.3035 - val_loss: 1.5408 - val_acc: 0.3200\n",
            "\n",
            "Epoch 00005: val_acc did not improve from 0.36000\n",
            "Epoch 6/50\n",
            "346/346 [==============================] - 5s 13ms/step - loss: 1.4816 - acc: 0.3555 - val_loss: 1.4999 - val_acc: 0.2933\n",
            "\n",
            "Epoch 00006: val_acc did not improve from 0.36000\n",
            "Epoch 7/50\n",
            "346/346 [==============================] - 5s 14ms/step - loss: 1.4250 - acc: 0.3382 - val_loss: 1.4954 - val_acc: 0.3867\n",
            "\n",
            "Epoch 00007: val_acc improved from 0.36000 to 0.38667, saving model to /content/drive/My Drive/Music Dataset/NPZ_10 Sec/weights.best(1).h5\n",
            "Epoch 8/50\n",
            "346/346 [==============================] - 5s 13ms/step - loss: 1.4212 - acc: 0.4075 - val_loss: 1.5141 - val_acc: 0.2800\n",
            "\n",
            "Epoch 00008: val_acc did not improve from 0.38667\n",
            "Epoch 9/50\n",
            "346/346 [==============================] - 5s 13ms/step - loss: 1.4117 - acc: 0.3815 - val_loss: 1.4577 - val_acc: 0.3333\n",
            "\n",
            "Epoch 00009: val_acc did not improve from 0.38667\n",
            "Epoch 10/50\n",
            "346/346 [==============================] - 5s 13ms/step - loss: 1.3477 - acc: 0.4046 - val_loss: 1.4894 - val_acc: 0.3733\n",
            "\n",
            "Epoch 00010: val_acc did not improve from 0.38667\n",
            "Epoch 11/50\n",
            "346/346 [==============================] - 5s 14ms/step - loss: 1.3870 - acc: 0.4046 - val_loss: 1.3819 - val_acc: 0.4800\n",
            "\n",
            "Epoch 00011: val_acc improved from 0.38667 to 0.48000, saving model to /content/drive/My Drive/Music Dataset/NPZ_10 Sec/weights.best(1).h5\n",
            "Epoch 12/50\n",
            "346/346 [==============================] - 5s 14ms/step - loss: 1.3167 - acc: 0.4422 - val_loss: 1.4212 - val_acc: 0.4133\n",
            "\n",
            "Epoch 00012: val_acc did not improve from 0.48000\n",
            "Epoch 13/50\n",
            "346/346 [==============================] - 5s 14ms/step - loss: 1.3307 - acc: 0.4509 - val_loss: 1.5125 - val_acc: 0.2800\n",
            "\n",
            "Epoch 00013: val_acc did not improve from 0.48000\n",
            "Epoch 14/50\n",
            "346/346 [==============================] - 5s 13ms/step - loss: 1.3337 - acc: 0.4017 - val_loss: 1.3627 - val_acc: 0.4000\n",
            "\n",
            "Epoch 00014: val_acc did not improve from 0.48000\n",
            "Epoch 15/50\n",
            "346/346 [==============================] - 5s 14ms/step - loss: 1.2462 - acc: 0.4711 - val_loss: 1.3472 - val_acc: 0.3733\n",
            "\n",
            "Epoch 00015: val_acc did not improve from 0.48000\n",
            "Epoch 16/50\n",
            "346/346 [==============================] - 5s 13ms/step - loss: 1.2652 - acc: 0.4827 - val_loss: 1.5540 - val_acc: 0.3200\n",
            "\n",
            "Epoch 00016: val_acc did not improve from 0.48000\n",
            "Epoch 17/50\n",
            "346/346 [==============================] - 5s 13ms/step - loss: 1.2245 - acc: 0.5116 - val_loss: 1.4033 - val_acc: 0.3200\n",
            "\n",
            "Epoch 00017: val_acc did not improve from 0.48000\n",
            "Epoch 18/50\n",
            "346/346 [==============================] - 5s 13ms/step - loss: 1.2131 - acc: 0.4624 - val_loss: 1.4412 - val_acc: 0.3867\n",
            "\n",
            "Epoch 00018: val_acc did not improve from 0.48000\n",
            "Epoch 19/50\n",
            "346/346 [==============================] - 5s 14ms/step - loss: 1.1767 - acc: 0.4827 - val_loss: 1.3377 - val_acc: 0.4000\n",
            "\n",
            "Epoch 00019: val_acc did not improve from 0.48000\n",
            "Epoch 20/50\n",
            "346/346 [==============================] - 5s 13ms/step - loss: 1.1956 - acc: 0.5145 - val_loss: 1.2656 - val_acc: 0.5200\n",
            "\n",
            "Epoch 00020: val_acc improved from 0.48000 to 0.52000, saving model to /content/drive/My Drive/Music Dataset/NPZ_10 Sec/weights.best(1).h5\n",
            "Epoch 21/50\n",
            "346/346 [==============================] - 5s 13ms/step - loss: 1.1079 - acc: 0.5607 - val_loss: 1.2658 - val_acc: 0.4800\n",
            "\n",
            "Epoch 00021: val_acc did not improve from 0.52000\n",
            "Epoch 22/50\n",
            "346/346 [==============================] - 5s 13ms/step - loss: 1.0591 - acc: 0.5838 - val_loss: 1.4427 - val_acc: 0.3200\n",
            "\n",
            "Epoch 00022: val_acc did not improve from 0.52000\n",
            "Epoch 23/50\n",
            "346/346 [==============================] - 5s 13ms/step - loss: 1.1181 - acc: 0.5780 - val_loss: 1.2304 - val_acc: 0.5200\n",
            "\n",
            "Epoch 00023: val_acc did not improve from 0.52000\n",
            "Epoch 24/50\n",
            "346/346 [==============================] - 5s 13ms/step - loss: 1.0868 - acc: 0.5260 - val_loss: 1.2795 - val_acc: 0.4800\n",
            "\n",
            "Epoch 00024: val_acc did not improve from 0.52000\n",
            "Epoch 25/50\n",
            "346/346 [==============================] - 5s 13ms/step - loss: 1.0512 - acc: 0.5751 - val_loss: 1.2165 - val_acc: 0.4533\n",
            "\n",
            "Epoch 00025: val_acc did not improve from 0.52000\n",
            "Epoch 26/50\n",
            "346/346 [==============================] - 5s 13ms/step - loss: 1.0509 - acc: 0.5751 - val_loss: 1.2921 - val_acc: 0.4267\n",
            "\n",
            "Epoch 00026: val_acc did not improve from 0.52000\n",
            "Epoch 27/50\n",
            "346/346 [==============================] - 5s 13ms/step - loss: 0.9793 - acc: 0.5954 - val_loss: 1.4360 - val_acc: 0.4133\n",
            "\n",
            "Epoch 00027: val_acc did not improve from 0.52000\n",
            "Epoch 28/50\n",
            "346/346 [==============================] - 5s 13ms/step - loss: 0.9959 - acc: 0.6156 - val_loss: 1.2192 - val_acc: 0.4800\n",
            "\n",
            "Epoch 00028: val_acc did not improve from 0.52000\n",
            "Epoch 29/50\n",
            "346/346 [==============================] - 5s 13ms/step - loss: 0.9914 - acc: 0.5954 - val_loss: 1.3222 - val_acc: 0.4400\n",
            "\n",
            "Epoch 00029: val_acc did not improve from 0.52000\n",
            "Epoch 30/50\n",
            "346/346 [==============================] - 5s 13ms/step - loss: 0.9656 - acc: 0.6156 - val_loss: 1.2761 - val_acc: 0.4533\n",
            "\n",
            "Epoch 00030: val_acc did not improve from 0.52000\n",
            "\n",
            "Epoch 00030: ReduceLROnPlateau reducing learning rate to 0.0002500000118743628.\n",
            "Epoch 31/50\n",
            "346/346 [==============================] - 5s 14ms/step - loss: 0.8456 - acc: 0.7081 - val_loss: 1.1946 - val_acc: 0.4933\n",
            "\n",
            "Epoch 00031: val_acc did not improve from 0.52000\n",
            "Epoch 32/50\n",
            "346/346 [==============================] - 5s 14ms/step - loss: 0.8313 - acc: 0.6792 - val_loss: 1.2970 - val_acc: 0.4533\n",
            "\n",
            "Epoch 00032: val_acc did not improve from 0.52000\n",
            "Epoch 33/50\n",
            "346/346 [==============================] - 5s 13ms/step - loss: 0.8319 - acc: 0.7023 - val_loss: 1.2538 - val_acc: 0.5333\n",
            "\n",
            "Epoch 00033: val_acc improved from 0.52000 to 0.53333, saving model to /content/drive/My Drive/Music Dataset/NPZ_10 Sec/weights.best(1).h5\n",
            "Epoch 34/50\n",
            "346/346 [==============================] - 5s 13ms/step - loss: 0.8273 - acc: 0.7052 - val_loss: 1.2220 - val_acc: 0.5200\n",
            "\n",
            "Epoch 00034: val_acc did not improve from 0.53333\n",
            "Epoch 35/50\n",
            "346/346 [==============================] - 5s 13ms/step - loss: 0.8309 - acc: 0.6965 - val_loss: 1.2188 - val_acc: 0.4933\n",
            "\n",
            "Epoch 00035: val_acc did not improve from 0.53333\n",
            "Epoch 36/50\n",
            "346/346 [==============================] - 5s 13ms/step - loss: 0.7822 - acc: 0.7543 - val_loss: 1.2289 - val_acc: 0.5067\n",
            "\n",
            "Epoch 00036: val_acc did not improve from 0.53333\n",
            "Epoch 37/50\n",
            "346/346 [==============================] - 5s 13ms/step - loss: 0.7749 - acc: 0.7052 - val_loss: 1.2441 - val_acc: 0.5600\n",
            "\n",
            "Epoch 00037: val_acc improved from 0.53333 to 0.56000, saving model to /content/drive/My Drive/Music Dataset/NPZ_10 Sec/weights.best(1).h5\n",
            "Epoch 38/50\n",
            "346/346 [==============================] - 5s 13ms/step - loss: 0.7619 - acc: 0.7486 - val_loss: 1.2026 - val_acc: 0.4933\n",
            "\n",
            "Epoch 00038: val_acc did not improve from 0.56000\n",
            "Epoch 39/50\n",
            "346/346 [==============================] - 5s 13ms/step - loss: 0.7853 - acc: 0.7168 - val_loss: 1.1691 - val_acc: 0.5467\n",
            "\n",
            "Epoch 00039: val_acc did not improve from 0.56000\n",
            "Epoch 40/50\n",
            "346/346 [==============================] - 5s 13ms/step - loss: 0.7755 - acc: 0.7225 - val_loss: 1.2647 - val_acc: 0.5200\n",
            "\n",
            "Epoch 00040: val_acc did not improve from 0.56000\n",
            "Epoch 41/50\n",
            "346/346 [==============================] - 5s 14ms/step - loss: 0.7455 - acc: 0.7543 - val_loss: 1.2995 - val_acc: 0.4400\n",
            "\n",
            "Epoch 00041: val_acc did not improve from 0.56000\n",
            "Epoch 42/50\n",
            "346/346 [==============================] - 5s 13ms/step - loss: 0.7284 - acc: 0.7717 - val_loss: 1.3552 - val_acc: 0.5200\n",
            "\n",
            "Epoch 00042: val_acc did not improve from 0.56000\n",
            "Epoch 43/50\n",
            "346/346 [==============================] - 5s 13ms/step - loss: 0.7177 - acc: 0.7312 - val_loss: 1.1575 - val_acc: 0.5333\n",
            "\n",
            "Epoch 00043: val_acc did not improve from 0.56000\n",
            "Epoch 44/50\n",
            "346/346 [==============================] - 5s 13ms/step - loss: 0.7009 - acc: 0.7601 - val_loss: 1.1797 - val_acc: 0.5067\n",
            "\n",
            "Epoch 00044: val_acc did not improve from 0.56000\n",
            "Epoch 45/50\n",
            "346/346 [==============================] - 5s 13ms/step - loss: 0.6647 - acc: 0.7890 - val_loss: 1.2258 - val_acc: 0.4800\n",
            "\n",
            "Epoch 00045: val_acc did not improve from 0.56000\n",
            "Epoch 46/50\n",
            "346/346 [==============================] - 5s 13ms/step - loss: 0.7052 - acc: 0.7514 - val_loss: 1.2187 - val_acc: 0.4667\n",
            "\n",
            "Epoch 00046: val_acc did not improve from 0.56000\n",
            "Epoch 47/50\n",
            "346/346 [==============================] - 5s 13ms/step - loss: 0.6696 - acc: 0.7659 - val_loss: 1.1737 - val_acc: 0.4933\n",
            "\n",
            "Epoch 00047: val_acc did not improve from 0.56000\n",
            "\n",
            "Epoch 00047: ReduceLROnPlateau reducing learning rate to 0.0001250000059371814.\n",
            "Epoch 48/50\n",
            "346/346 [==============================] - 5s 13ms/step - loss: 0.6271 - acc: 0.8266 - val_loss: 1.2018 - val_acc: 0.4933\n",
            "\n",
            "Epoch 00048: val_acc did not improve from 0.56000\n",
            "Epoch 49/50\n",
            "346/346 [==============================] - 5s 13ms/step - loss: 0.6260 - acc: 0.7977 - val_loss: 1.1682 - val_acc: 0.5067\n",
            "\n",
            "Epoch 00049: val_acc did not improve from 0.56000\n",
            "Epoch 50/50\n",
            "346/346 [==============================] - 5s 13ms/step - loss: 0.6180 - acc: 0.8266 - val_loss: 1.1982 - val_acc: 0.5600\n",
            "\n",
            "Epoch 00050: val_acc did not improve from 0.56000\n"
          ],
          "name": "stdout"
        }
      ]
    },
    {
      "cell_type": "code",
      "metadata": {
        "id": "jJzxqCuaG-pC",
        "colab_type": "code",
        "colab": {}
      },
      "source": [
        ""
      ],
      "execution_count": 0,
      "outputs": []
    },
    {
      "cell_type": "code",
      "metadata": {
        "id": "Th3FtMuNDEDQ",
        "colab_type": "code",
        "outputId": "368b7bac-c8f0-4824-fb63-962e1e5997ee",
        "colab": {
          "base_uri": "https://localhost:8080/",
          "height": 590
        }
      },
      "source": [
        "show_summary_stats(history)"
      ],
      "execution_count": 44,
      "outputs": [
        {
          "output_type": "stream",
          "text": [
            "dict_keys(['val_loss', 'val_acc', 'loss', 'acc', 'lr'])\n"
          ],
          "name": "stdout"
        },
        {
          "output_type": "display_data",
          "data": {
            "image/png": "[encoded data removed]",
            "text/plain": [
              "<Figure size 432x288 with 1 Axes>"
            ]
          },
          "metadata": {
            "tags": []
          }
        },
        {
          "output_type": "display_data",
          "data": {
            "image/png": "[encoded data removed]",
            "text/plain": [
              "<Figure size 432x288 with 1 Axes>"
            ]
          },
          "metadata": {
            "tags": []
          }
        }
      ]
    },
    {
      "cell_type": "code",
      "metadata": {
        "id": "R0Dw-TEpDL2T",
        "colab_type": "code",
        "outputId": "e40b8772-6701-494a-cdb5-54e9ca7198aa",
        "colab": {
          "base_uri": "https://localhost:8080/",
          "height": 238
        }
      },
      "source": [
        "from sklearn.metrics import classification_report\n",
        "\n",
        "y_true = np.argmax(y_valid, axis = 1)\n",
        "X_valid = np.expand_dims(X_valid, axis = -1)\n",
        "y_pred = model.predict(X_valid)\n",
        "y_pred = np.argmax(y_pred, axis=1)\n",
        "labels = [0,1,2,3,4]\n",
        "target_names = dict_genres.keys()\n",
        "\n",
        "print(y_true.shape, y_pred.shape)\n",
        "print(classification_report(y_true, y_pred, target_names=target_names))"
      ],
      "execution_count": 45,
      "outputs": [
        {
          "output_type": "stream",
          "text": [
            "(75,) (75,)\n",
            "              precision    recall  f1-score   support\n",
            "\n",
            "       Happy       0.32      0.73      0.45        15\n",
            "  Devotional       0.67      0.53      0.59        15\n",
            "         Sad       0.50      0.47      0.48        15\n",
            "    Romantic       0.67      0.27      0.38        15\n",
            "       Party       0.56      0.33      0.42        15\n",
            "\n",
            "    accuracy                           0.47        75\n",
            "   macro avg       0.54      0.47      0.46        75\n",
            "weighted avg       0.54      0.47      0.46        75\n",
            "\n"
          ],
          "name": "stdout"
        }
      ]
    },
    {
      "cell_type": "code",
      "metadata": {
        "id": "TP3dP8utDX8w",
        "colab_type": "code",
        "outputId": "328503e7-9cac-4790-a53b-f9bcf02347cb",
        "colab": {
          "base_uri": "https://localhost:8080/",
          "height": 34
        }
      },
      "source": [
        "from sklearn.metrics import accuracy_score\n",
        "\n",
        "print(accuracy_score(y_true, y_pred))"
      ],
      "execution_count": 46,
      "outputs": [
        {
          "output_type": "stream",
          "text": [
            "0.4666666666666667\n"
          ],
          "name": "stdout"
        }
      ]
    },
    {
      "cell_type": "code",
      "metadata": {
        "id": "pSrIN9O8DjeS",
        "colab_type": "code",
        "outputId": "177ada8c-1299-472c-d9d8-0a9113e6b39f",
        "colab": {
          "base_uri": "https://localhost:8080/",
          "height": 51
        }
      },
      "source": [
        "npzfile = np.load('/content/drive/My Drive/Music Dataset/NPZ_10 Sec/test_arr.npz')\n",
        "print(npzfile.files)\n",
        "X_test = npzfile['arr_0']\n",
        "y_test = npzfile['arr_1']\n",
        "print(X_test.shape, y_test.shape)"
      ],
      "execution_count": 47,
      "outputs": [
        {
          "output_type": "stream",
          "text": [
            "['arr_0', 'arr_1']\n",
            "(75, 160, 128) (75,)\n"
          ],
          "name": "stdout"
        }
      ]
    },
    {
      "cell_type": "code",
      "metadata": {
        "id": "Avat4A0rDutc",
        "colab_type": "code",
        "colab": {}
      },
      "source": [
        "from keras.models import load_model\n",
        "\n",
        "weights_path = '/content/drive/My Drive/Music Dataset/NPZ_10 Sec/weights.best(1).h5'\n",
        "model = load_model(weights_path)"
      ],
      "execution_count": 0,
      "outputs": []
    },
    {
      "cell_type": "code",
      "metadata": {
        "id": "2ptS7zrKDzzm",
        "colab_type": "code",
        "outputId": "7f0b9921-6f63-4aa7-f528-c31700f2a294",
        "colab": {
          "base_uri": "https://localhost:8080/",
          "height": 34
        }
      },
      "source": [
        "y_test -= 1\n",
        "print(np.amin(y_test), np.amax(y_test), np.mean(y_test))"
      ],
      "execution_count": 49,
      "outputs": [
        {
          "output_type": "stream",
          "text": [
            "0 4 2.0\n"
          ],
          "name": "stdout"
        }
      ]
    },
    {
      "cell_type": "code",
      "metadata": {
        "id": "sYMceaJbEGLq",
        "colab_type": "code",
        "outputId": "c362093d-8199-422c-af16-c03dce8b623f",
        "colab": {
          "base_uri": "https://localhost:8080/",
          "height": 34
        }
      },
      "source": [
        "X_test_raw = librosa.core.db_to_power(X_test, ref=1.0)\n",
        "print(np.amin(X_test_raw), np.amax(X_test_raw), np.mean(X_test_raw))"
      ],
      "execution_count": 50,
      "outputs": [
        {
          "output_type": "stream",
          "text": [
            "1e-08 1.0 0.004814967323228272\n"
          ],
          "name": "stdout"
        }
      ]
    },
    {
      "cell_type": "code",
      "metadata": {
        "id": "HyIV8pnAELzs",
        "colab_type": "code",
        "outputId": "1c2a9730-6209-4e40-fded-6a85aa86075f",
        "colab": {
          "base_uri": "https://localhost:8080/",
          "height": 238
        }
      },
      "source": [
        "X_test = np.log(X_test_raw)\n",
        "\n",
        "\n",
        "from sklearn.metrics import classification_report\n",
        "\n",
        "y_true = y_test\n",
        "X_test = np.expand_dims(X_test, axis = -1)\n",
        "y_pred = model.predict(X_test)\n",
        "y_pred = np.argmax(y_pred, axis=1)\n",
        "labels = [0,1,2,3,4]\n",
        "target_names = dict_genres.keys()\n",
        "\n",
        "print(y_true.shape, y_pred.shape)\n",
        "print(classification_report(y_true, y_pred, target_names=target_names))"
      ],
      "execution_count": 51,
      "outputs": [
        {
          "output_type": "stream",
          "text": [
            "(75,) (75,)\n",
            "              precision    recall  f1-score   support\n",
            "\n",
            "       Happy       0.27      0.20      0.23        15\n",
            "  Devotional       0.50      0.07      0.12        15\n",
            "         Sad       0.48      0.67      0.56        15\n",
            "    Romantic       0.38      0.40      0.39        15\n",
            "       Party       0.48      0.80      0.60        15\n",
            "\n",
            "    accuracy                           0.43        75\n",
            "   macro avg       0.42      0.43      0.38        75\n",
            "weighted avg       0.42      0.43      0.38        75\n",
            "\n"
          ],
          "name": "stdout"
        }
      ]
    },
    {
      "cell_type": "code",
      "metadata": {
        "id": "4bElMAveEXkY",
        "colab_type": "code",
        "outputId": "7f2d9e83-b8a4-4441-9176-2194a74350a3",
        "colab": {
          "base_uri": "https://localhost:8080/",
          "height": 279
        }
      },
      "source": [
        "from sklearn.metrics import confusion_matrix\n",
        "import seaborn as sns\n",
        "\n",
        "\n",
        "mat = confusion_matrix(y_true, y_pred)\n",
        "sns.heatmap(mat.T, square=True, annot=True, fmt='d', cbar=False,\n",
        "            xticklabels=dict_genres.keys(),\n",
        "            yticklabels=dict_genres.keys())\n",
        "plt.xlabel('true label')\n",
        "plt.ylabel('predicted label');"
      ],
      "execution_count": 52,
      "outputs": [
        {
          "output_type": "display_data",
          "data": {
            "image/png": "[encoded data removed]",
            "text/plain": [
              "<Figure size 432x288 with 1 Axes>"
            ]
          },
          "metadata": {
            "tags": []
          }
        }
      ]
    },
    {
      "cell_type": "code",
      "metadata": {
        "id": "nVBJE6leEio8",
        "colab_type": "code",
        "outputId": "f632b9f9-5d0e-4d4e-b1c1-bfec73612c88",
        "colab": {
          "base_uri": "https://localhost:8080/",
          "height": 34
        }
      },
      "source": [
        "from sklearn.metrics import accuracy_score\n",
        "print(accuracy_score(y_true, y_pred))"
      ],
      "execution_count": 53,
      "outputs": [
        {
          "output_type": "stream",
          "text": [
            "0.4266666666666667\n"
          ],
          "name": "stdout"
        }
      ]
    }
  ]
}